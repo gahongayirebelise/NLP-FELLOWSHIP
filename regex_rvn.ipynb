{
  "nbformat": 4,
  "nbformat_minor": 0,
  "metadata": {
    "colab": {
      "provenance": [],
      "authorship_tag": "ABX9TyMxG0SdO2vP0vi+2Sa+YERc",
      "include_colab_link": true
    },
    "kernelspec": {
      "name": "python3",
      "display_name": "Python 3"
    },
    "language_info": {
      "name": "python"
    }
  },
  "cells": [
    {
      "cell_type": "markdown",
      "metadata": {
        "id": "view-in-github",
        "colab_type": "text"
      },
      "source": [
        "<a href=\"https://colab.research.google.com/github/gahongayirebelise/NLP-FELLOWSHIP/blob/main/regex_rvn.ipynb\" target=\"_parent\"><img src=\"https://colab.research.google.com/assets/colab-badge.svg\" alt=\"Open In Colab\"/></a>"
      ]
    },
    {
      "cell_type": "code",
      "execution_count": 28,
      "metadata": {
        "id": "yk107yz4bVDy",
        "colab": {
          "base_uri": "https://localhost:8080/",
          "height": 36
        },
        "outputId": "8d980578-03a8-4810-eb68-5c0d2ba94784"
      },
      "outputs": [
        {
          "output_type": "execute_result",
          "data": {
            "text/plain": [
              "'is'"
            ],
            "application/vnd.google.colaboratory.intrinsic+json": {
              "type": "string"
            }
          },
          "metadata": {},
          "execution_count": 28
        }
      ],
      "source": [
        "import re\n",
        "txt=\"My name is gee iam 34 years old is my is\"\n",
        "x = re.search(\"is\", txt)\n",
        "x.group()"
      ]
    },
    {
      "cell_type": "code",
      "source": [
        "import re\n",
        "txt=\"My name is gee iam 34 years old\"\n",
        "x = re.findall(\"\\d\", txt)\n",
        "print(x)"
      ],
      "metadata": {
        "colab": {
          "base_uri": "https://localhost:8080/"
        },
        "id": "WCA-jVC8dvYs",
        "outputId": "5d1f0d2b-6c3e-46b9-cc46-836aadc14616"
      },
      "execution_count": 29,
      "outputs": [
        {
          "output_type": "stream",
          "name": "stdout",
          "text": [
            "['3', '4']\n"
          ]
        }
      ]
    },
    {
      "cell_type": "code",
      "source": [
        "import re\n",
        "txt=\"bring it over\"\n",
        "x=re.findall(\"br.*g\", txt)\n",
        "print(x)"
      ],
      "metadata": {
        "colab": {
          "base_uri": "https://localhost:8080/"
        },
        "id": "5B7jqoSvhlQk",
        "outputId": "2db25f10-1580-4870-c993-674e450d1f63"
      },
      "execution_count": 7,
      "outputs": [
        {
          "output_type": "stream",
          "name": "stdout",
          "text": [
            "['bring']\n"
          ]
        }
      ]
    },
    {
      "cell_type": "code",
      "source": [
        "import re\n",
        "txt=\"beautiful soup\"\n",
        "x=re.findall(\"(beauti.{2}l)\", txt)\n",
        "print(x)"
      ],
      "metadata": {
        "colab": {
          "base_uri": "https://localhost:8080/"
        },
        "id": "Iffo3ehyh9BE",
        "outputId": "b20b3021-4417-45b7-d0a7-cd695ee4cbac"
      },
      "execution_count": 2,
      "outputs": [
        {
          "output_type": "stream",
          "name": "stdout",
          "text": [
            "['beautiful']\n"
          ]
        }
      ]
    },
    {
      "cell_type": "code",
      "source": [
        "import re\n",
        "txt=\"i shall go to the market by noon\"\n",
        "x=re.findall(\"go|stays\",txt)\n",
        "print(x)\n"
      ],
      "metadata": {
        "colab": {
          "base_uri": "https://localhost:8080/"
        },
        "id": "7z0fUUIQjYsW",
        "outputId": "2b7384bc-8f9a-40ee-999a-0a104dc79aa5"
      },
      "execution_count": 3,
      "outputs": [
        {
          "output_type": "stream",
          "name": "stdout",
          "text": [
            "['go']\n"
          ]
        }
      ]
    },
    {
      "cell_type": "code",
      "source": [
        "import re\n",
        "txt=\"Hello mom\"\n",
        "x=re.findall(\"\\s\", txt)\n",
        "print(x)\n"
      ],
      "metadata": {
        "colab": {
          "base_uri": "https://localhost:8080/"
        },
        "id": "sDFyFCPYlsYH",
        "outputId": "6b185860-efbb-4c2b-facc-7d1d13cfe60b"
      },
      "execution_count": 20,
      "outputs": [
        {
          "output_type": "stream",
          "name": "stdout",
          "text": [
            "[' ']\n"
          ]
        }
      ]
    },
    {
      "cell_type": "code",
      "source": [
        "import re\n",
        "txt=\"Iam belise from Mpc iam 25 years old\"\n",
        "x=re.findall(\"\\w\", txt)\n",
        "print(x)\n",
        "\n",
        "\n"
      ],
      "metadata": {
        "id": "eAZImzlaHIXS"
      },
      "execution_count": null,
      "outputs": []
    },
    {
      "cell_type": "code",
      "source": [
        "import re\n",
        "txt=\"run to her for help\"\n",
        "x=re.findall(\"[^arn]\", txt)\n",
        "print(x)"
      ],
      "metadata": {
        "colab": {
          "base_uri": "https://localhost:8080/"
        },
        "id": "lAlhPvKNUVcO",
        "outputId": "5e4ae0e4-3359-46b3-c04d-ad8bbbe45652"
      },
      "execution_count": 25,
      "outputs": [
        {
          "output_type": "stream",
          "name": "stdout",
          "text": [
            "['u', ' ', 't', 'o', ' ', 'h', 'e', ' ', 'f', 'o', ' ', 'h', 'e', 'l', 'p']\n"
          ]
        }
      ]
    },
    {
      "cell_type": "code",
      "source": [
        "#sub function\n",
        "import re\n",
        "txt=\"the weather looks cold today\"\n",
        "x=re.sub(\"\\s\", \"9\",  txt)\n",
        "print(x)\n"
      ],
      "metadata": {
        "colab": {
          "base_uri": "https://localhost:8080/"
        },
        "id": "F9PsCFpGYAAN",
        "outputId": "8e2caae9-1af1-432d-e409-c07389c87420"
      },
      "execution_count": 28,
      "outputs": [
        {
          "output_type": "stream",
          "name": "stdout",
          "text": [
            "the9weather9looks9cold9today\n"
          ]
        }
      ]
    },
    {
      "cell_type": "code",
      "source": [
        "#split function\n",
        "import re\n",
        "txt=\"the weather looks hot today\"\n",
        "x=re.split(\"\\s\", txt, 1)\n",
        "print(x)"
      ],
      "metadata": {
        "colab": {
          "base_uri": "https://localhost:8080/"
        },
        "id": "iaSh3zMph2ce",
        "outputId": "2ce79cb3-9fe3-4e1f-b067-123137eb951d"
      },
      "execution_count": 29,
      "outputs": [
        {
          "output_type": "stream",
          "name": "stdout",
          "text": [
            "['the', 'weather looks hot today']\n"
          ]
        }
      ]
    },
    {
      "cell_type": "code",
      "source": [],
      "metadata": {
        "id": "bj32i_CWi0PR"
      },
      "execution_count": null,
      "outputs": []
    }
  ]
}