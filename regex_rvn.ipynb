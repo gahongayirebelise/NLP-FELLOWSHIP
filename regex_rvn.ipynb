{
  "cells": [
    {
      "cell_type": "markdown",
      "metadata": {
        "id": "view-in-github",
        "colab_type": "text"
      },
      "source": [
        "<a href=\"https://colab.research.google.com/github/gahongayirebelise/NLP-FELLOWSHIP/blob/main/regex_rvn.ipynb\" target=\"_parent\"><img src=\"https://colab.research.google.com/assets/colab-badge.svg\" alt=\"Open In Colab\"/></a>"
      ]
    },
    {
      "cell_type": "code",
      "execution_count": null,
      "metadata": {
        "colab": {
          "background_save": true
        },
        "id": "yk107yz4bVDy",
        "outputId": "d6d52d9f-c4cd-4b05-8284-694a1461dda7"
      },
      "outputs": [
        {
          "data": {
            "application/vnd.google.colaboratory.intrinsic+json": {
              "type": "string"
            },
            "text/plain": [
              "'is'"
            ]
          },
          "execution_count": 9,
          "metadata": {},
          "output_type": "execute_result"
        }
      ],
      "source": [
        "import re\n",
        "txt=\"My name is gee iam 34 years old is my is\"\n",
        "x = re.search(\"is\", txt)\n",
        "x.group()"
      ]
    },
    {
      "cell_type": "code",
      "execution_count": null,
      "metadata": {
        "id": "WCA-jVC8dvYs"
      },
      "outputs": [],
      "source": [
        "import re\n",
        "txt=\"My name is gee iam 34 years old\"\n",
        "x = re.findall(\"\\d\", txt)\n",
        "print(x)"
      ]
    },
    {
      "cell_type": "code",
      "source": [
        "import re\n",
        "txt=\"The sun rise in east\"\n",
        "x=re.search(r\"\\br\\w+\", txt)\n",
        "print(x.span())\n",
        "#using span(): returns atuple containing the start or end of the first match occurrence"
      ],
      "metadata": {
        "colab": {
          "base_uri": "https://localhost:8080/"
        },
        "id": "vBBzgumihwOP",
        "outputId": "fafa7fe2-8bbf-4d77-d518-abbb5064b4bc"
      },
      "execution_count": 2,
      "outputs": [
        {
          "output_type": "stream",
          "name": "stdout",
          "text": [
            "(8, 12)\n"
          ]
        }
      ]
    },
    {
      "cell_type": "code",
      "source": [
        "import re\n",
        "txt=\"The sun rise in east\"\n",
        "x=re.search(r\"\\br\\w+\", txt)\n",
        "print(x.string)\n",
        "#using string: returns the string passed into the function"
      ],
      "metadata": {
        "colab": {
          "base_uri": "https://localhost:8080/"
        },
        "id": "3F5IlKdbhwLj",
        "outputId": "643bf7fd-0b9d-4a04-98ef-4e0f3801f4e2"
      },
      "execution_count": 3,
      "outputs": [
        {
          "output_type": "stream",
          "name": "stdout",
          "text": [
            "The sun rise in east\n"
          ]
        }
      ]
    },
    {
      "cell_type": "code",
      "source": [
        "#using group:returns the part of the string where there was amonth\n",
        "import re\n",
        "txt=\"The sun rise in east\"\n",
        "x=re.search(r\"\\br\\w+\", txt)\n",
        "print(x.group())\n"
      ],
      "metadata": {
        "colab": {
          "base_uri": "https://localhost:8080/"
        },
        "id": "leMK4_3shwIw",
        "outputId": "4eae0c1f-a980-4f25-9ec9-c4ff481980e9"
      },
      "execution_count": 4,
      "outputs": [
        {
          "output_type": "stream",
          "name": "stdout",
          "text": [
            "rise\n"
          ]
        }
      ]
    },
    {
      "cell_type": "code",
      "source": [],
      "metadata": {
        "id": "zobI-oTDhwGG"
      },
      "execution_count": null,
      "outputs": []
    },
    {
      "cell_type": "code",
      "source": [],
      "metadata": {
        "id": "J_F_fQPVhwDl"
      },
      "execution_count": null,
      "outputs": []
    }
  ],
  "metadata": {
    "colab": {
      "provenance": [],
      "authorship_tag": "ABX9TyPqXRwP6wA/K0So1GumLpD/",
      "include_colab_link": true
    },
    "kernelspec": {
      "display_name": "Python 3",
      "name": "python3"
    },
    "language_info": {
      "name": "python"
    }
  },
  "nbformat": 4,
  "nbformat_minor": 0
}