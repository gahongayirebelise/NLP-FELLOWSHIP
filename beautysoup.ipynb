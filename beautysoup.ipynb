{
  "nbformat": 4,
  "nbformat_minor": 0,
  "metadata": {
    "colab": {
      "provenance": [],
      "authorship_tag": "ABX9TyP5Kpf5o4m8G5XLTUH/TX7W",
      "include_colab_link": true
    },
    "kernelspec": {
      "name": "python3",
      "display_name": "Python 3"
    },
    "language_info": {
      "name": "python"
    }
  },
  "cells": [
    {
      "cell_type": "markdown",
      "metadata": {
        "id": "view-in-github",
        "colab_type": "text"
      },
      "source": [
        "<a href=\"https://colab.research.google.com/github/gahongayirebelise/NLP-FELLOWSHIP/blob/main/beautysoup.ipynb\" target=\"_parent\"><img src=\"https://colab.research.google.com/assets/colab-badge.svg\" alt=\"Open In Colab\"/></a>"
      ]
    },
    {
      "cell_type": "code",
      "execution_count": 5,
      "metadata": {
        "colab": {
          "base_uri": "https://localhost:8080/"
        },
        "id": "MK4Iu1fIIOkk",
        "outputId": "3015fbec-e073-4620-c104-a6ea46f0ec68"
      },
      "outputs": [
        {
          "output_type": "stream",
          "name": "stdout",
          "text": [
            "Looking in indexes: https://pypi.org/simple, https://us-python.pkg.dev/colab-wheels/public/simple/\n",
            "Requirement already satisfied: pandas in /usr/local/lib/python3.7/dist-packages (1.3.5)\n",
            "Requirement already satisfied: numpy>=1.17.3 in /usr/local/lib/python3.7/dist-packages (from pandas) (1.21.6)\n",
            "Requirement already satisfied: pytz>=2017.3 in /usr/local/lib/python3.7/dist-packages (from pandas) (2022.5)\n",
            "Requirement already satisfied: python-dateutil>=2.7.3 in /usr/local/lib/python3.7/dist-packages (from pandas) (2.8.2)\n",
            "Requirement already satisfied: six>=1.5 in /usr/local/lib/python3.7/dist-packages (from python-dateutil>=2.7.3->pandas) (1.15.0)\n"
          ]
        }
      ],
      "source": [
        "#PANDAS\n",
        "!pip install pandas\n"
      ]
    },
    {
      "cell_type": "code",
      "source": [
        "import pandas"
      ],
      "metadata": {
        "id": "44uXdzw0Idzt"
      },
      "execution_count": 6,
      "outputs": []
    },
    {
      "cell_type": "code",
      "source": [
        "data_set={\n",
        "    'names': [\"bel\", \"josh\", \"marv\"],\n",
        "    'options': [\"MPC\", \"PCB\", \"BCG\"]\n",
        "}\n",
        "myvar= pandas.DataFrame(data_set)\n",
        "print(myvar)"
      ],
      "metadata": {
        "colab": {
          "base_uri": "https://localhost:8080/"
        },
        "id": "H_rFB-c-LDKx",
        "outputId": "c0bb972a-6dce-41fd-8ef3-eca6e454e402"
      },
      "execution_count": 15,
      "outputs": [
        {
          "output_type": "stream",
          "name": "stdout",
          "text": [
            "  names options\n",
            "0   bel     MPC\n",
            "1  josh     PCB\n",
            "2  marv     BCG\n"
          ]
        }
      ]
    },
    {
      "cell_type": "code",
      "source": [
        "import pandas as pd\n",
        "names= [\"Joe\", \"Christa\", \"Bebe\"]\n",
        "myvar= pd.Series(names)\n",
        "print(myvar[1])"
      ],
      "metadata": {
        "colab": {
          "base_uri": "https://localhost:8080/"
        },
        "id": "oweVb0g5MK53",
        "outputId": "cf116dce-ba48-437b-870e-d7ffd0aec33e"
      },
      "execution_count": 24,
      "outputs": [
        {
          "output_type": "stream",
          "name": "stdout",
          "text": [
            "Christa\n"
          ]
        }
      ]
    },
    {
      "cell_type": "code",
      "source": [
        "#Series: these are like columns in atable"
      ],
      "metadata": {
        "id": "BmWZN1-7Wk2-"
      },
      "execution_count": null,
      "outputs": []
    },
    {
      "cell_type": "code",
      "source": [
        "import pandas as pd\n",
        "names= [\"Joe\", \"Christa\", \"Bebe\"]\n",
        "myvar= pd.Series(names, index=[\"x\", \"y\", \"z\"])\n",
        "print(myvar)"
      ],
      "metadata": {
        "id": "-udZr6kNQ2px",
        "outputId": "d79e8dd4-6246-422d-9438-04b2d165696c",
        "colab": {
          "base_uri": "https://localhost:8080/"
        }
      },
      "execution_count": 25,
      "outputs": [
        {
          "output_type": "stream",
          "name": "stdout",
          "text": [
            "x        Joe\n",
            "y    Christa\n",
            "z       Bebe\n",
            "dtype: object\n"
          ]
        }
      ]
    },
    {
      "cell_type": "code",
      "source": [
        "#using dictionary\n",
        "fruits={\"apples\": 3, \"Oranges\": 4, \"mangos\": 6}\n",
        "myvar= pd.Series(fruits, index=[\"apples\", \"mangos\"])\n",
        "print(myvar)"
      ],
      "metadata": {
        "id": "bZC-Ev0UVcPe",
        "outputId": "19afc2fb-a1f4-45f0-d894-b60a9c32defb",
        "colab": {
          "base_uri": "https://localhost:8080/"
        }
      },
      "execution_count": 28,
      "outputs": [
        {
          "output_type": "stream",
          "name": "stdout",
          "text": [
            "apples    3\n",
            "mangos    6\n",
            "dtype: int64\n"
          ]
        }
      ]
    },
    {
      "cell_type": "code",
      "source": [
        "#DataFrames: its like a whole table\n",
        "data_set={\n",
        "    'names': [\"bel\", \"josh\", \"marv\"],\n",
        "    'options': [\"MPC\", \"PCB\", \"BCG\"]\n",
        "}\n",
        "myvar= pandas.DataFrame(data_set)\n",
        "print(myvar.loc[0])"
      ],
      "metadata": {
        "id": "olKgSnonWA6t",
        "outputId": "27d50b3c-bb3b-45c6-df9b-bd60bb05ca11",
        "colab": {
          "base_uri": "https://localhost:8080/"
        }
      },
      "execution_count": 29,
      "outputs": [
        {
          "output_type": "stream",
          "name": "stdout",
          "text": [
            "names      bel\n",
            "options    MPC\n",
            "Name: 0, dtype: object\n"
          ]
        }
      ]
    },
    {
      "cell_type": "code",
      "source": [
        "data_set={\n",
        "    'names': [\"bel\", \"josh\", \"marv\"],\n",
        "    'options': [\"MPC\", \"PCB\", \"BCG\"]\n",
        "}\n",
        "myvar= pandas.DataFrame(data_set)\n",
        "print(myvar.loc[[0, 1]])"
      ],
      "metadata": {
        "id": "93yrbAwBY48a",
        "outputId": "031680f3-86d5-4470-c0f8-e2f0b4f1daaf",
        "colab": {
          "base_uri": "https://localhost:8080/"
        }
      },
      "execution_count": 30,
      "outputs": [
        {
          "output_type": "stream",
          "name": "stdout",
          "text": [
            "  names options\n",
            "0   bel     MPC\n",
            "1  josh     PCB\n"
          ]
        }
      ]
    },
    {
      "cell_type": "code",
      "source": [
        "# Load files into DataFrames\n",
        "import pandas as pd\n",
        "\n",
        "df = pd.read_csv('data.csv')\n",
        "\n",
        "print(df.to_string())\n",
        "\n"
      ],
      "metadata": {
        "id": "Dxovpd7KZO2U"
      },
      "execution_count": null,
      "outputs": []
    },
    {
      "cell_type": "code",
      "source": [],
      "metadata": {
        "id": "-bnbRI9gYysp"
      },
      "execution_count": null,
      "outputs": []
    },
    {
      "cell_type": "code",
      "source": [],
      "metadata": {
        "id": "4kw1RV9PYywZ"
      },
      "execution_count": null,
      "outputs": []
    },
    {
      "cell_type": "code",
      "source": [],
      "metadata": {
        "id": "XVrBSiBYYyzL"
      },
      "execution_count": null,
      "outputs": []
    },
    {
      "cell_type": "code",
      "source": [
        "from bs4 import  BeautifulSoup as bs"
      ],
      "metadata": {
        "id": "PYbP9Pf5Yy2D"
      },
      "execution_count": 2,
      "outputs": []
    },
    {
      "cell_type": "code",
      "source": [
        "import bs4\n",
        "import requests"
      ],
      "metadata": {
        "id": "-4sygySaYy5x"
      },
      "execution_count": 6,
      "outputs": []
    },
    {
      "cell_type": "code",
      "source": [
        "files=(\"https://web.archive.org/web/20220201000813/https://www.igihe.com/\")\n",
        "pg_txt= requests.get(files).text\n",
        "pg_txt\n",
        "Soup= bs(pg_txt, \"html.parser\")"
      ],
      "metadata": {
        "id": "ZADMHAIsYy9c"
      },
      "execution_count": 11,
      "outputs": []
    },
    {
      "cell_type": "code",
      "source": [
        "text_file= Soup.find_all('span', class_='homenews-title')\n",
        "text_file[0].find('a')['href']\n",
        "\n"
      ],
      "metadata": {
        "id": "rK-eQvi3aERb",
        "outputId": "55e254e0-a6f2-4d42-a301-2bb79ca71484",
        "colab": {
          "base_uri": "https://localhost:8080/",
          "height": 36
        }
      },
      "execution_count": 21,
      "outputs": [
        {
          "output_type": "execute_result",
          "data": {
            "text/plain": [
              "'amakuru/u-rwanda/article/rra-mu-nzira-yo-gukumira-inyerezwa-ry-umusoro-ukomoka-mu-bucuruzi-mpuzamahanga'"
            ],
            "application/vnd.google.colaboratory.intrinsic+json": {
              "type": "string"
            }
          },
          "metadata": {},
          "execution_count": 21
        }
      ]
    },
    {
      "cell_type": "code",
      "source": [
        "a = 'amata '\n",
        "b = 'yibye '\n",
        "c = 'yabana'\n",
        "x = 'belise '\n",
        "w = x+a+b+c\n",
        "w"
      ],
      "metadata": {
        "id": "810uU6K_ed6N",
        "outputId": "e1012c9f-d89b-4268-f9b4-be0ce6c4eb0c",
        "colab": {
          "base_uri": "https://localhost:8080/",
          "height": 36
        }
      },
      "execution_count": 22,
      "outputs": [
        {
          "output_type": "execute_result",
          "data": {
            "text/plain": [
              "'belise amata yibye yabana'"
            ],
            "application/vnd.google.colaboratory.intrinsic+json": {
              "type": "string"
            }
          },
          "metadata": {},
          "execution_count": 22
        }
      ]
    },
    {
      "cell_type": "code",
      "source": [
        "art_link = []\n",
        "art_headings = []\n",
        "for item in text_file:\n",
        "  art_link.append(files+item.find('a')['href'])\n",
        "  art_headings.append(item.find('a').text)\n",
        "print(art_link[:4])\n",
        "print(art_headings[:4])"
      ],
      "metadata": {
        "id": "FKlkFDQdcd0O",
        "outputId": "6f34b27f-9f54-4da1-f4f5-1ef82b2116eb",
        "colab": {
          "base_uri": "https://localhost:8080/"
        }
      },
      "execution_count": 24,
      "outputs": [
        {
          "output_type": "stream",
          "name": "stdout",
          "text": [
            "['https://web.archive.org/web/20220201000813/https://www.igihe.com/amakuru/u-rwanda/article/rra-mu-nzira-yo-gukumira-inyerezwa-ry-umusoro-ukomoka-mu-bucuruzi-mpuzamahanga', 'https://web.archive.org/web/20220201000813/https://www.igihe.com/amakuru/u-rwanda/article/kayonza-abaturage-babiri-barimo-n-utwite-bagerageje-kwiyahura-mu-munsi-umwe', 'https://web.archive.org/web/20220201000813/https://www.igihe.com/imikino/article/manzi-thierry-yaguzwe-na-as-far', 'https://web.archive.org/web/20220201000813/https://www.igihe.com/amakuru/u-rwanda/article/muri-ur-hatangijwe-icyumweru-cyahariwe-imishinga-irimo-udushya-dushingiye-ku']\n",
            "['RRA mu nzira yo gukumira inyerezwa ryâ\\x80\\x99umusoro ukomoka mu bucuruzi mpuzamahanga', 'Kayonza: Abaturage babiri barimo n’utwite bagerageje kwiyahura mu munsi umwe', 'Manzi Thierry yaguzwe na AS FAR ', 'Muri UR hatangijwe icyumweru cyahariwe imishinga irimo udushya dushingiye ku bushakashatsi']\n"
          ]
        }
      ]
    },
    {
      "cell_type": "code",
      "source": [
        "import re\n",
        "pattern = r\".(\\\\\\w\\d+)\"\n",
        "correct_txt= re.sub(pattern, \"\", art_headings[0])\n",
        "correct_txt\n"
      ],
      "metadata": {
        "id": "OfN3Tym2lbuH",
        "outputId": "1b99f25c-c54e-4c31-b354-a2d045b515e7",
        "colab": {
          "base_uri": "https://localhost:8080/",
          "height": 36
        }
      },
      "execution_count": 32,
      "outputs": [
        {
          "output_type": "execute_result",
          "data": {
            "text/plain": [
              "'RRA mu nzira yo gukumira inyerezwa ryâ\\x80\\x99umusoro ukomoka mu bucuruzi mpuzamahanga'"
            ],
            "application/vnd.google.colaboratory.intrinsic+json": {
              "type": "string"
            }
          },
          "metadata": {},
          "execution_count": 32
        }
      ]
    },
    {
      "cell_type": "code",
      "source": [],
      "metadata": {
        "id": "EPjjbCOlmIM-"
      },
      "execution_count": null,
      "outputs": []
    }
  ]
}