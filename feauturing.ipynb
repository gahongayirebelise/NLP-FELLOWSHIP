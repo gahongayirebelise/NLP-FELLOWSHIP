{
  "nbformat": 4,
  "nbformat_minor": 0,
  "metadata": {
    "colab": {
      "provenance": [],
      "authorship_tag": "ABX9TyPe/VjXpuDDdkHRmJbA5e2m",
      "include_colab_link": true
    },
    "kernelspec": {
      "name": "python3",
      "display_name": "Python 3"
    },
    "language_info": {
      "name": "python"
    }
  },
  "cells": [
    {
      "cell_type": "markdown",
      "metadata": {
        "id": "view-in-github",
        "colab_type": "text"
      },
      "source": [
        "<a href=\"https://colab.research.google.com/github/gahongayirebelise/NLP-FELLOWSHIP/blob/main/feauturing.ipynb\" target=\"_parent\"><img src=\"https://colab.research.google.com/assets/colab-badge.svg\" alt=\"Open In Colab\"/></a>"
      ]
    },
    {
      "cell_type": "code",
      "execution_count": null,
      "metadata": {
        "id": "FSk8XxpLmNl_"
      },
      "outputs": [],
      "source": [
        "import numpy as np"
      ]
    },
    {
      "cell_type": "code",
      "source": [
        "sentences=['this is the very first sentence', 'it is all about tokenization', 'best regards']\n",
        "unique_words = set()\n",
        "word_index= {}\n",
        "index_word= {}\n",
        "unique_words"
      ],
      "metadata": {
        "colab": {
          "base_uri": "https://localhost:8080/"
        },
        "id": "UvzaeClwmP8q",
        "outputId": "51a0214a-dce4-4506-b63a-e0dd49293442"
      },
      "execution_count": null,
      "outputs": [
        {
          "output_type": "execute_result",
          "data": {
            "text/plain": [
              "set()"
            ]
          },
          "metadata": {},
          "execution_count": 2
        }
      ]
    },
    {
      "cell_type": "code",
      "source": [
        "# word tokenization\n",
        "for sent in sentences:\n",
        "  for word in sent.split():\n",
        "    unique_words.add(word)"
      ],
      "metadata": {
        "id": "CS1JY9IjnI1v"
      },
      "execution_count": null,
      "outputs": []
    },
    {
      "cell_type": "code",
      "source": [
        "unique_words"
      ],
      "metadata": {
        "colab": {
          "base_uri": "https://localhost:8080/"
        },
        "id": "vbhAIM3eLi4O",
        "outputId": "a1faa7a3-b187-455d-e5b3-7d2c2ddbf524"
      },
      "execution_count": null,
      "outputs": [
        {
          "output_type": "execute_result",
          "data": {
            "text/plain": [
              "{'about',\n",
              " 'all',\n",
              " 'best',\n",
              " 'first',\n",
              " 'is',\n",
              " 'it',\n",
              " 'regards',\n",
              " 'sentence',\n",
              " 'the',\n",
              " 'this',\n",
              " 'tokenization',\n",
              " 'very'}"
            ]
          },
          "metadata": {},
          "execution_count": 4
        }
      ]
    },
    {
      "cell_type": "code",
      "source": [
        "#word_index\n",
        "\n",
        "for index,word in enumerate(unique_words):\n",
        "  word_index[word] = index\n",
        "  index_word[index]= word"
      ],
      "metadata": {
        "id": "nRdlrFQNLvmc"
      },
      "execution_count": null,
      "outputs": []
    },
    {
      "cell_type": "code",
      "source": [
        "word_index"
      ],
      "metadata": {
        "colab": {
          "base_uri": "https://localhost:8080/"
        },
        "id": "zLd2HGsmMoIZ",
        "outputId": "a90aa491-1248-4d79-ecb4-1ba759debb01"
      },
      "execution_count": null,
      "outputs": [
        {
          "output_type": "execute_result",
          "data": {
            "text/plain": [
              "{'regards': 0,\n",
              " 'first': 1,\n",
              " 'about': 2,\n",
              " 'is': 3,\n",
              " 'the': 4,\n",
              " 'it': 5,\n",
              " 'this': 6,\n",
              " 'best': 7,\n",
              " 'sentence': 8,\n",
              " 'tokenization': 9,\n",
              " 'very': 10,\n",
              " 'all': 11}"
            ]
          },
          "metadata": {},
          "execution_count": 9
        }
      ]
    },
    {
      "cell_type": "code",
      "source": [
        "index_word"
      ],
      "metadata": {
        "colab": {
          "base_uri": "https://localhost:8080/"
        },
        "id": "FyEmOYDxMpuf",
        "outputId": "303ccf16-95a0-4d61-919f-f02b5a6de8f7"
      },
      "execution_count": null,
      "outputs": [
        {
          "output_type": "execute_result",
          "data": {
            "text/plain": [
              "{0: 'regards',\n",
              " 1: 'first',\n",
              " 2: 'about',\n",
              " 3: 'is',\n",
              " 4: 'the',\n",
              " 5: 'it',\n",
              " 6: 'this',\n",
              " 7: 'best',\n",
              " 8: 'sentence',\n",
              " 9: 'tokenization',\n",
              " 10: 'very',\n",
              " 11: 'all'}"
            ]
          },
          "metadata": {},
          "execution_count": 10
        }
      ]
    },
    {
      "cell_type": "code",
      "source": [
        "arr1 = np.zeros(len(unique_words))\n",
        "\n"
      ],
      "metadata": {
        "id": "-YBzvPTqONN5"
      },
      "execution_count": null,
      "outputs": []
    },
    {
      "cell_type": "code",
      "source": [
        "# sentence and the unique words array\n",
        "arr2 = np.zeros((len(sentences), len(unique_words)))"
      ],
      "metadata": {
        "id": "QHOFkLovOp2n"
      },
      "execution_count": null,
      "outputs": []
    },
    {
      "cell_type": "code",
      "source": [
        "for sent in range(len(sentences)):\n",
        "  for word in unique_words:\n",
        "    if word in sentences[sent]:\n",
        "      arr2[sent][word_index[word]] += 1"
      ],
      "metadata": {
        "id": "UYzCAiKqPEXd"
      },
      "execution_count": null,
      "outputs": []
    },
    {
      "cell_type": "code",
      "source": [
        "arr2[0][1]=4"
      ],
      "metadata": {
        "id": "EDD7xhuAPVks"
      },
      "execution_count": null,
      "outputs": []
    },
    {
      "cell_type": "code",
      "source": [
        "arr2"
      ],
      "metadata": {
        "colab": {
          "base_uri": "https://localhost:8080/"
        },
        "id": "FTdVCOJfPZVB",
        "outputId": "e01897d3-5961-4389-812f-bcf28bb1f79f"
      },
      "execution_count": null,
      "outputs": [
        {
          "output_type": "execute_result",
          "data": {
            "text/plain": [
              "array([[0., 4., 0., 1., 1., 0., 1., 0., 1., 0., 1., 0.],\n",
              "       [0., 0., 1., 1., 0., 1., 0., 0., 0., 1., 0., 1.],\n",
              "       [1., 0., 0., 0., 0., 0., 0., 1., 0., 0., 0., 0.]])"
            ]
          },
          "metadata": {},
          "execution_count": 16
        }
      ]
    }
  ]
}