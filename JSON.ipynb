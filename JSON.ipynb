{
  "nbformat": 4,
  "nbformat_minor": 0,
  "metadata": {
    "colab": {
      "provenance": [],
      "authorship_tag": "ABX9TyOlJ4CKm+7BBnTV4oiyoM20",
      "include_colab_link": true
    },
    "kernelspec": {
      "name": "python3",
      "display_name": "Python 3"
    },
    "language_info": {
      "name": "python"
    }
  },
  "cells": [
    {
      "cell_type": "markdown",
      "metadata": {
        "id": "view-in-github",
        "colab_type": "text"
      },
      "source": [
        "<a href=\"https://colab.research.google.com/github/gahongayirebelise/NLP-FELLOWSHIP/blob/main/JSON.ipynb\" target=\"_parent\"><img src=\"https://colab.research.google.com/assets/colab-badge.svg\" alt=\"Open In Colab\"/></a>"
      ]
    },
    {
      "cell_type": "code",
      "execution_count": null,
      "metadata": {
        "colab": {
          "base_uri": "https://localhost:8080/"
        },
        "id": "ntdwXBFgqG5W",
        "outputId": "10f0e1a1-297d-4c89-aa9d-b6462a5b0012"
      },
      "outputs": [
        {
          "output_type": "stream",
          "name": "stdout",
          "text": [
            "Mounted at /content/drive\n",
            "Drive already mounted at /content/drive; to attempt to forcibly remount, call drive.mount(\"/content/drive\", force_remount=True).\n"
          ]
        }
      ],
      "source": [
        "import json\n",
        "from google.colab import drive\n",
        "drive.mount(\"/content/drive\")"
      ]
    },
    {
      "cell_type": "code",
      "source": [
        "[\n",
        "    {\n",
        "        \"names\": \"bebe\",\n",
        "        \"class\": \"uni\", \n",
        "        \"age\": 12,\n",
        "        \"role\": \"null\"\n",
        "    },\n",
        "    {\n",
        "      \"names\": \"dodo\",\n",
        "      \"class\": \"masters\",\n",
        "      \"age\": 14,\n",
        "      \"role\": \"null\"\n",
        "     \n",
        "    }\n",
        "]"
      ],
      "metadata": {
        "colab": {
          "base_uri": "https://localhost:8080/"
        },
        "id": "oVy5uZlOqJmg",
        "outputId": "25a968ab-39ef-470b-b15a-6e15cd8e4c5b"
      },
      "execution_count": null,
      "outputs": [
        {
          "output_type": "execute_result",
          "data": {
            "text/plain": [
              "[{'names': 'bebe', 'class': 'uni', 'age': 12, 'role': 'null'},\n",
              " {'names': 'dodo', 'class': 'masters', 'age': 14, 'role': 'null'}]"
            ]
          },
          "metadata": {},
          "execution_count": 11
        }
      ]
    },
    {
      "cell_type": "code",
      "source": [
        "import json"
      ],
      "metadata": {
        "id": "H6U_3n9n2MqC"
      },
      "execution_count": null,
      "outputs": []
    },
    {
      "cell_type": "code",
      "source": [
        "json_string= '''\n",
        "{\n",
        "  \"student\": [\n",
        "    {\n",
        "    \"names\": \"belise\",\n",
        "    \"age\": 12,\n",
        "    \"marital_status\": \"null\"\n",
        "    },\n",
        "    {\n",
        "      \"names\": \"denis\",\n",
        "      \"age\": 14,\n",
        "      \"marital_status\": \"single\"\n",
        "    }\n",
        "  ]\n",
        "}\n",
        "'''"
      ],
      "metadata": {
        "id": "uqfnyIS12O7A"
      },
      "execution_count": null,
      "outputs": []
    },
    {
      "cell_type": "code",
      "source": [
        "data = json.loads(json_string)\n",
        "print(data[\"student\"][0][\"names\"])"
      ],
      "metadata": {
        "colab": {
          "base_uri": "https://localhost:8080/"
        },
        "id": "uMikRM1z2iwy",
        "outputId": "a2646305-7182-408b-b23c-66acfa42c5d0"
      },
      "execution_count": null,
      "outputs": [
        {
          "output_type": "stream",
          "name": "stdout",
          "text": [
            "belise\n"
          ]
        }
      ]
    },
    {
      "cell_type": "code",
      "source": [
        "# data[\"test\"] = True\n",
        "new_json = json.dumps(data)\n",
        "print(new_json)\n",
        "# here we are trying to convert python dictionary into json \n",
        "#so when we add indent for example indent=2 let us see the change down there\n"
      ],
      "metadata": {
        "colab": {
          "base_uri": "https://localhost:8080/"
        },
        "id": "lfIqhxpLMYvz",
        "outputId": "1489d6ef-a44e-43b9-fc8e-9b76c674e8dc"
      },
      "execution_count": null,
      "outputs": [
        {
          "output_type": "stream",
          "name": "stdout",
          "text": [
            "{\"student\": [{\"names\": \"belise\", \"age\": 12, \"marital_status\": \"null\"}, {\"names\": \"denis\", \"age\": 14, \"marital_status\": \"single\"}]}\n"
          ]
        }
      ]
    },
    {
      "cell_type": "code",
      "source": [
        "new_json = json.dumps(data, indent=4, sort_keys= True)\n",
        "print(new_json)"
      ],
      "metadata": {
        "colab": {
          "base_uri": "https://localhost:8080/"
        },
        "id": "xiLqopdXMwQc",
        "outputId": "cd6eef42-5f2c-4fb5-cea8-ef4219e4ffba"
      },
      "execution_count": null,
      "outputs": [
        {
          "output_type": "stream",
          "name": "stdout",
          "text": [
            "{\n",
            "    \"student\": [\n",
            "        {\n",
            "            \"age\": 12,\n",
            "            \"marital_status\": \"null\",\n",
            "            \"names\": \"belise\"\n",
            "        },\n",
            "        {\n",
            "            \"age\": 14,\n",
            "            \"marital_status\": \"single\",\n",
            "            \"names\": \"denis\"\n",
            "        }\n",
            "    ]\n",
            "}\n"
          ]
        }
      ]
    },
    {
      "cell_type": "code",
      "source": [
        "# load and dump\n",
        "import json\n",
        "with open(\"data.json\", \"r\")as f:\n",
        "  data = json.load(f)\n",
        "  print(data,items())"
      ],
      "metadata": {
        "id": "9oTt8SS4OdyC"
      },
      "execution_count": null,
      "outputs": []
    },
    {
      "cell_type": "code",
      "source": [],
      "metadata": {
        "id": "tVU73gVy72Lo"
      },
      "execution_count": null,
      "outputs": []
    }
  ]
}