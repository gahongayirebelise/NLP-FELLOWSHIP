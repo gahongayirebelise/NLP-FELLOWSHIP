{
  "nbformat": 4,
  "nbformat_minor": 0,
  "metadata": {
    "colab": {
      "provenance": [],
      "authorship_tag": "ABX9TyP+3CLs5IDEsIgVTFdD2JaS",
      "include_colab_link": true
    },
    "kernelspec": {
      "name": "python3",
      "display_name": "Python 3"
    },
    "language_info": {
      "name": "python"
    }
  },
  "cells": [
    {
      "cell_type": "markdown",
      "metadata": {
        "id": "view-in-github",
        "colab_type": "text"
      },
      "source": [
        "<a href=\"https://colab.research.google.com/github/gahongayirebelise/NLP-FELLOWSHIP/blob/main/Untitled6.ipynb\" target=\"_parent\"><img src=\"https://colab.research.google.com/assets/colab-badge.svg\" alt=\"Open In Colab\"/></a>"
      ]
    },
    {
      "cell_type": "code",
      "execution_count": 47,
      "metadata": {
        "id": "IpxlfC0OjFeV"
      },
      "outputs": [],
      "source": [
        "import json\n",
        "from google.colab import drive\n"
      ]
    },
    {
      "cell_type": "code",
      "source": [
        "drive.mount(\"/content/drive\")"
      ],
      "metadata": {
        "colab": {
          "base_uri": "https://localhost:8080/"
        },
        "id": "YUSGhVotkVm6",
        "outputId": "95ff199f-1508-4b22-9028-296c62777d3d"
      },
      "execution_count": 48,
      "outputs": [
        {
          "output_type": "stream",
          "name": "stdout",
          "text": [
            "Drive already mounted at /content/drive; to attempt to forcibly remount, call drive.mount(\"/content/drive\", force_remount=True).\n"
          ]
        }
      ]
    },
    {
      "cell_type": "code",
      "source": [
        "d1='''{\"names\":\"ines\",\"class\":\"s4\",\"age\":34}'''\n",
        "d2='''[\"school\"=\"esc\",\"title\"=\"NLP\"]'''\n",
        "js1=json.dumps(d1)\n",
        "js1=json.dumps(d2)\n",
        "\n",
        "type(d2)"
      ],
      "metadata": {
        "colab": {
          "base_uri": "https://localhost:8080/"
        },
        "id": "zEAc7BwNmEpK",
        "outputId": "d9e8448e-26d7-482c-e21f-34a098d047d3"
      },
      "execution_count": 49,
      "outputs": [
        {
          "output_type": "execute_result",
          "data": {
            "text/plain": [
              "str"
            ]
          },
          "metadata": {},
          "execution_count": 49
        }
      ]
    },
    {
      "cell_type": "code",
      "source": [
        "with open(\"belise.json\", \"w\") as f:\n",
        "  d3={\"names\":\"rona\",\"age\":23,\"week\":\"tuesday\"}\n",
        "  js2=json.dump(d3,f)\n",
        "  type(d3)"
      ],
      "metadata": {
        "id": "PTyRidfQnU0Z"
      },
      "execution_count": 50,
      "outputs": []
    },
    {
      "cell_type": "code",
      "source": [
        "js_str=\"\"\"{\"names\":\"bebe\",\"parent\":\"claude\",\"age\":12}\"\"\"\n",
        "#js1_str=\"\"\"[\"names\",\"bebe\",\"parent\",\"claude\",\"age\",\"12\"]\"\"\"\n",
        "py_str=json.loads(js_str)\n",
        "#py_str=json.loads(js1_str)\n",
        "print(py_str[\"parent\"])\n"
      ],
      "metadata": {
        "colab": {
          "base_uri": "https://localhost:8080/"
        },
        "id": "yw435wTWr5ud",
        "outputId": "644ae245-4527-4a2c-e641-b6cc2a17d22d"
      },
      "execution_count": 56,
      "outputs": [
        {
          "output_type": "stream",
          "name": "stdout",
          "text": [
            "claude\n"
          ]
        }
      ]
    },
    {
      "cell_type": "code",
      "source": [],
      "metadata": {
        "id": "h5LL7ulewKzJ"
      },
      "execution_count": null,
      "outputs": []
    }
  ]
}