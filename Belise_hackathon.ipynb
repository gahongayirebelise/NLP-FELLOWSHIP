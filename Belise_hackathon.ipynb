{
  "cells": [
    {
      "cell_type": "markdown",
      "metadata": {
        "id": "view-in-github",
        "colab_type": "text"
      },
      "source": [
        "<a href=\"https://colab.research.google.com/github/gahongayirebelise/NLP-FELLOWSHIP/blob/main/Belise_hackathon.ipynb\" target=\"_parent\"><img src=\"https://colab.research.google.com/assets/colab-badge.svg\" alt=\"Open In Colab\"/></a>"
      ]
    },
    {
      "cell_type": "markdown",
      "source": [
        "### **SCRAPPING JOBINRWANDA**"
      ],
      "metadata": {
        "id": "KcidOTUR0jjR"
      }
    },
    {
      "cell_type": "code",
      "execution_count": null,
      "metadata": {
        "id": "ZH1-CWubPJN8"
      },
      "outputs": [],
      "source": [
        "from bs4 import BeautifulSoup # Extract information from HTML Pages"
      ]
    },
    {
      "cell_type": "code",
      "execution_count": null,
      "metadata": {
        "id": "2DIaekRlPYpA"
      },
      "outputs": [],
      "source": [
        "import bs4\n",
        "import requests #Fetch HTML Pages from the Web\n",
        "import pandas as pd #organise our data into tabular/tables\n",
        "import re\n",
        "import json"
      ]
    },
    {
      "cell_type": "code",
      "source": [
        "content = requests.get('https://www.jobinrwanda.com/jobs/all').content #Jobs\n",
        "Soup = BeautifulSoup(content, 'html.parser')\n",
        "web_infos = Soup.find_all('div', class_='card-body p-2')\n",
        "\n"
      ],
      "metadata": {
        "id": "ZdBMvMmpjGiZ"
      },
      "execution_count": null,
      "outputs": []
    },
    {
      "cell_type": "code",
      "source": [
        "len(web_infos)"
      ],
      "metadata": {
        "id": "MbPS7tKVjByl",
        "outputId": "ba8aac2d-67a5-4991-e2ef-2fb814c392ad",
        "colab": {
          "base_uri": "https://localhost:8080/"
        }
      },
      "execution_count": null,
      "outputs": [
        {
          "output_type": "execute_result",
          "data": {
            "text/plain": [
              "76"
            ]
          },
          "metadata": {},
          "execution_count": 8
        }
      ]
    },
    {
      "cell_type": "code",
      "source": [
        "web_infos[0]"
      ],
      "metadata": {
        "colab": {
          "base_uri": "https://localhost:8080/"
        },
        "id": "sHOUgfjkxUPq",
        "outputId": "6bab70ac-19f3-4118-8af6-6c4ae05ec175"
      },
      "execution_count": null,
      "outputs": [
        {
          "output_type": "execute_result",
          "data": {
            "text/plain": [
              "<div class=\"card-body p-2\">\n",
              "<a href=\"/job/operations-manager-6\"><h5 class=\"card-title\"><span class=\"field field--name-title field--type-string field--label-hidden\">Operations Manager</span>\n",
              "</h5></a>\n",
              "<p class=\"card-text\">\n",
              "<a href=\"/employer/gardaworld\">GardaWorld </a>  |\n",
              "              Published on 03-11-2022 |\n",
              "              Deadline <time class=\"datetime\" datetime=\"2022-11-14T21:59:00Z\">14-11-2022</time>\n",
              "<br/>\n",
              "                              Senior (5+ years of experience)<br/>\n",
              "<span class=\"badge badge-primary\">Job</span>\n",
              "</p>\n",
              "</div>"
            ]
          },
          "metadata": {},
          "execution_count": 9
        }
      ]
    },
    {
      "cell_type": "code",
      "source": [
        "web_infos[0].find('p').find('br')"
      ],
      "metadata": {
        "id": "Fho2_lkJMsoW",
        "outputId": "c914565e-390e-4e5a-b0ac-d2f5339383e9",
        "colab": {
          "base_uri": "https://localhost:8080/"
        }
      },
      "execution_count": null,
      "outputs": [
        {
          "output_type": "execute_result",
          "data": {
            "text/plain": [
              "<br/>"
            ]
          },
          "metadata": {},
          "execution_count": 10
        }
      ]
    },
    {
      "cell_type": "code",
      "source": [
        "web_infos[0].find('span').getText() #Title of Each Job advert\n",
        "web_infos[0].find('a')['href']  #Link to the content of each job title\n",
        "web_infos[0].find('p').find('a') #Link to the Institution that has posted the advert\n",
        "web_infos[0].find('p').find('a').getText() #This is the name of the company"
      ],
      "metadata": {
        "id": "nwMtv_h5QeDh",
        "outputId": "8f4a2502-a7e9-4bee-db54-9bc781127b5c",
        "colab": {
          "base_uri": "https://localhost:8080/",
          "height": 36
        }
      },
      "execution_count": null,
      "outputs": [
        {
          "output_type": "execute_result",
          "data": {
            "text/plain": [
              "'GardaWorld '"
            ],
            "application/vnd.google.colaboratory.intrinsic+json": {
              "type": "string"
            }
          },
          "metadata": {},
          "execution_count": 11
        }
      ]
    },
    {
      "cell_type": "code",
      "source": [
        "df = pd.DataFrame()\n",
        "df['link'] = None\n",
        "df['title'] = None\n",
        "df['company_link'] = None\n",
        "df['company'] = None\n",
        "df['type'] = None"
      ],
      "metadata": {
        "id": "txLjW5b9TBnh"
      },
      "execution_count": null,
      "outputs": []
    },
    {
      "cell_type": "code",
      "execution_count": null,
      "metadata": {
        "id": "utIyrqtPSgMA"
      },
      "outputs": [],
      "source": [
        "def parse_content(content, web_info_type):\n",
        "  link = []\n",
        "  title = []\n",
        "  company = []\n",
        "  company_link = []\n",
        "  job_type = []\n",
        "  for index, web_info in enumerate(content):\n",
        "    link.append(web_info.find('a')['href'])\n",
        "    title.append(web_info.find('span').getText()) #GEt the title from\n",
        "    company.append(str(web_info.find('p').find('a').getText()))\n",
        "    company_link.append(web_info.find('p').find('a'))\n",
        "    job_type.append(web_info_type) #Whether its a job/consultacy/tender\n",
        "  return link, title, company, company_link, job_type\n"
      ]
    },
    {
      "cell_type": "code",
      "source": [
        "#Jobs web_info\n",
        "content_bs = BeautifulSoup(content, 'html.parser')\n",
        "content_titles = content_bs.find_all('div', class_='card-body p-2')\n",
        "df['link'], df['title'], df['company'], df['company_link'], df['type']= parse_content(content_titles, web_info_type='Job')"
      ],
      "metadata": {
        "id": "r5Tqqc4GNHl-"
      },
      "execution_count": null,
      "outputs": []
    },
    {
      "cell_type": "code",
      "source": [
        "df['link']"
      ],
      "metadata": {
        "id": "F2i-Fb1Djc6b",
        "colab": {
          "base_uri": "https://localhost:8080/"
        },
        "outputId": "ddf79317-57a2-4567-8637-be2dc3793f23"
      },
      "execution_count": null,
      "outputs": [
        {
          "output_type": "execute_result",
          "data": {
            "text/plain": [
              "0                            /job/operations-manager-6\n",
              "1                          /job/account-manager-credit\n",
              "2                                   /job/legal-manager\n",
              "3     /job/district-coordinatorjunior-district-manager\n",
              "4                          /job/radio-sales-executives\n",
              "                            ...                       \n",
              "71                               /job/rwanda-tree-lead\n",
              "72      /index.php/job/rwanda-potato-seed-venture-lead\n",
              "73                   /job/it-operations-senior-manager\n",
              "74             /job/rwanda-seed-innovation-centre-lead\n",
              "75                        /job/senior-business-analyst\n",
              "Name: link, Length: 76, dtype: object"
            ]
          },
          "metadata": {},
          "execution_count": 15
        }
      ]
    },
    {
      "cell_type": "code",
      "source": [
        "list_description = []\n",
        "for i in range(len(df)):\n",
        "  link = 'https://www.jobinrwanda.com' + df['link'][i]\n",
        "  print(link, i)"
      ],
      "metadata": {
        "id": "1bkz9JhizbAL",
        "colab": {
          "base_uri": "https://localhost:8080/"
        },
        "outputId": "4a2a494c-72c8-4cbc-d482-17ce52c43b54"
      },
      "execution_count": null,
      "outputs": [
        {
          "output_type": "stream",
          "name": "stdout",
          "text": [
            "https://www.jobinrwanda.com/job/operations-manager-6 0\n",
            "https://www.jobinrwanda.com/job/account-manager-credit 1\n",
            "https://www.jobinrwanda.com/job/legal-manager 2\n",
            "https://www.jobinrwanda.com/job/district-coordinatorjunior-district-manager 3\n",
            "https://www.jobinrwanda.com/job/radio-sales-executives 4\n",
            "https://www.jobinrwanda.com/job/radio-presenter-0 5\n",
            "https://www.jobinrwanda.com/job/driver-16 6\n",
            "https://www.jobinrwanda.com/job/procurement-and-logistics-officer 7\n",
            "https://www.jobinrwanda.com/job/product-manager-1 8\n",
            "https://www.jobinrwanda.com/job/aftercare-vehicle-maintenance-manager 9\n",
            "https://www.jobinrwanda.com/job/finance-officer-9 10\n",
            "https://www.jobinrwanda.com/job/communications-officer-8 11\n",
            "https://www.jobinrwanda.com/job/lecturer-communication-and-writing 12\n",
            "https://www.jobinrwanda.com/job/research-associate-ra-0 13\n",
            "https://www.jobinrwanda.com/job/office-assistant-0 14\n",
            "https://www.jobinrwanda.com/job/head-field-officehuye 15\n",
            "https://www.jobinrwanda.com/job/human-resources-assistant-0 16\n",
            "https://www.jobinrwanda.com/job/rwanda-impact-specialist 17\n",
            "https://www.jobinrwanda.com/job/operations-support-manager-africa 18\n",
            "https://www.jobinrwanda.com/job/accounting-supervisor 19\n",
            "https://www.jobinrwanda.com/job/accounting-manager-1 20\n",
            "https://www.jobinrwanda.com/job/business-development-officer 21\n",
            "https://www.jobinrwanda.com/job/regional-grants-officer-central-africa 22\n",
            "https://www.jobinrwanda.com/job/global-head-corporate-communications 23\n",
            "https://www.jobinrwanda.com/index.php/job/public-relations-officer 24\n",
            "https://www.jobinrwanda.com/job/grants-manager-2 25\n",
            "https://www.jobinrwanda.com/job/hvac-lead-technician 26\n",
            "https://www.jobinrwanda.com/job/maintenance-mechanic-appliance-repair-0 27\n",
            "https://www.jobinrwanda.com/job/camp-administrator 28\n",
            "https://www.jobinrwanda.com/job/rwanda-program-officer 29\n",
            "https://www.jobinrwanda.com/job/sales-representative-0 30\n",
            "https://www.jobinrwanda.com/job/sales-manager-5 31\n",
            "https://www.jobinrwanda.com/job/aquaculture-technician 32\n",
            "https://www.jobinrwanda.com/job/health-systems-strengthening-hss-manager 33\n",
            "https://www.jobinrwanda.com/index.php/job/development-manager 34\n",
            "https://www.jobinrwanda.com/job/retail-partnerships-lead 35\n",
            "https://www.jobinrwanda.com/job/project-officer-7 36\n",
            "https://www.jobinrwanda.com/job/administration-finance-intern 37\n",
            "https://www.jobinrwanda.com/job/loan-officers-3 38\n",
            "https://www.jobinrwanda.com/job/project-manager-14 39\n",
            "https://www.jobinrwanda.com/job/training-manager-0 40\n",
            "https://www.jobinrwanda.com/job/it-and-mis-director 41\n",
            "https://www.jobinrwanda.com/job/learning-design-specialist-rwanda 42\n",
            "https://www.jobinrwanda.com/job/technical-advisor-2 43\n",
            "https://www.jobinrwanda.com/job/front-desk-officer-0 44\n",
            "https://www.jobinrwanda.com/job/global-remote-sensing-manager 45\n",
            "https://www.jobinrwanda.com/job/laborer 46\n",
            "https://www.jobinrwanda.com/job/migration-health-physician 47\n",
            "https://www.jobinrwanda.com/index.php/job/migration-health-nurse 48\n",
            "https://www.jobinrwanda.com/job/global-hr-support-specialist 49\n",
            "https://www.jobinrwanda.com/job/rwanda-procurement-specialist-0 50\n",
            "https://www.jobinrwanda.com/job/security-officer 51\n",
            "https://www.jobinrwanda.com/job/security-supervisor 52\n",
            "https://www.jobinrwanda.com/job/instructional-technology-assistant 53\n",
            "https://www.jobinrwanda.com/job/associate-professor-and-head-human-anatomy 54\n",
            "https://www.jobinrwanda.com/job/rwanda-potato-seed-store-manager 55\n",
            "https://www.jobinrwanda.com/job/agronomist-technician-g-2c 56\n",
            "https://www.jobinrwanda.com/job/dental-doctors-dental-surgeon 57\n",
            "https://www.jobinrwanda.com/job/head-rehabilitation-department 58\n",
            "https://www.jobinrwanda.com/job/assistant-press-department-administration-and-consular-section 59\n",
            "https://www.jobinrwanda.com/job/rwanda-warehouse-manager 60\n",
            "https://www.jobinrwanda.com/job/csat-officer-rwanda 61\n",
            "https://www.jobinrwanda.com/job/spm-officer 62\n",
            "https://www.jobinrwanda.com/index.php/job/rwanda-communications-associate 63\n",
            "https://www.jobinrwanda.com/job/strategic-advisor-targeted-skills-development 64\n",
            "https://www.jobinrwanda.com/job/strategic-advisor-e-commerce 65\n",
            "https://www.jobinrwanda.com/job/50-sales-representatives-needed-all-city-rwanda-ltd-1 66\n",
            "https://www.jobinrwanda.com/job/store-keeper-1 67\n",
            "https://www.jobinrwanda.com/index.php/job/rwanda-market-access-and-srf-mel-associate 68\n",
            "https://www.jobinrwanda.com/job/rwanda-field-integration-coordinator 69\n",
            "https://www.jobinrwanda.com/job/rwanda-electrical-hub-operator 70\n",
            "https://www.jobinrwanda.com/job/rwanda-tree-lead 71\n",
            "https://www.jobinrwanda.com/index.php/job/rwanda-potato-seed-venture-lead 72\n",
            "https://www.jobinrwanda.com/job/it-operations-senior-manager 73\n",
            "https://www.jobinrwanda.com/job/rwanda-seed-innovation-centre-lead 74\n",
            "https://www.jobinrwanda.com/job/senior-business-analyst 75\n"
          ]
        }
      ]
    },
    {
      "cell_type": "code",
      "source": [
        "job_description_raw_content = requests.get('https://www.jobinrwanda.com/job/global-remote-sensing-manager').content"
      ],
      "metadata": {
        "id": "t_0CSq6FzOW5"
      },
      "execution_count": null,
      "outputs": []
    },
    {
      "cell_type": "code",
      "source": [
        "job_description_raw_content"
      ],
      "metadata": {
        "id": "xaB2cqMMziHO"
      },
      "execution_count": null,
      "outputs": []
    },
    {
      "cell_type": "code",
      "source": [
        "job_description_bs = BeautifulSoup(job_description_raw_content, 'html.parser')"
      ],
      "metadata": {
        "id": "ggVQF2BJz20L"
      },
      "execution_count": null,
      "outputs": []
    },
    {
      "cell_type": "code",
      "source": [
        "job_description_bs.find_all('div', class_='employer-description') #Employer Description"
      ],
      "metadata": {
        "id": "WVeh8B490Bfp"
      },
      "execution_count": null,
      "outputs": []
    },
    {
      "cell_type": "code",
      "source": [
        "describe = job_description_bs.find_all('div', class_=\"clearfix text-formatted field field--name-field-job-full-description field--type-text-long field--label-hidden field__item\") #Employer Description"
      ],
      "metadata": {
        "id": "AXpoWNQk0Hta"
      },
      "execution_count": null,
      "outputs": []
    },
    {
      "cell_type": "code",
      "source": [
        "df['description'] = None"
      ],
      "metadata": {
        "id": "RndJXyzk0eOs"
      },
      "execution_count": null,
      "outputs": []
    },
    {
      "cell_type": "code",
      "source": [
        "def get_description(job_link):\n",
        "  job_description_raw_content = requests.get(f'https://www.jobinrwanda.com/{job_link}').content #request raw content\n",
        "  job_description_bs = BeautifulSoup(job_description_raw_content, 'html.parser')  #pass the html raw content to beautifull soup\n",
        "  job_description_bs.find_all('div', class_='employer-description') #Employer Description\n",
        "  #Get the entire job description\n",
        "  describe = job_description_bs.find_all('div', class_=\"clearfix text-formatted field field--name-field-job-full-description field--type-text-long field--label-hidden field__item\") #Employer Description\n",
        "  description = '' #Construct an empty string to hold the paragraph\n",
        "  for paragraph in describe:\n",
        "    description += paragraph.getText() #Adding each paragraph we find in the job description.\n",
        "  return description"
      ],
      "metadata": {
        "id": "50cnMXpK0osz"
      },
      "execution_count": null,
      "outputs": []
    },
    {
      "cell_type": "code",
      "source": [
        "for position, link in enumerate(df['link']):\n",
        "  df.loc[position]['description'] = get_description(job_link=link)"
      ],
      "metadata": {
        "id": "zgDPA7kW01I7"
      },
      "execution_count": null,
      "outputs": []
    },
    {
      "cell_type": "code",
      "source": [
        "df['company_link'][0].getText()\n",
        "df['company_link'] = df[['company_link']].applymap(lambda x: x.getText())"
      ],
      "metadata": {
        "id": "Z0CIOJGXzeEf"
      },
      "execution_count": null,
      "outputs": []
    },
    {
      "cell_type": "code",
      "source": [
        "df['description'] = df[['description']].applymap(lambda x: re.compile('\\n|\\\\xa0').sub(\"\", x))"
      ],
      "metadata": {
        "id": "w2FzBNp7zlY8"
      },
      "execution_count": null,
      "outputs": []
    },
    {
      "cell_type": "code",
      "source": [
        "df.head()"
      ],
      "metadata": {
        "id": "l3g64cjk1uSx",
        "outputId": "e9e2c707-bd9d-4f59-a303-840541a9cf6d",
        "colab": {
          "base_uri": "https://localhost:8080/",
          "height": 337
        }
      },
      "execution_count": null,
      "outputs": [
        {
          "output_type": "execute_result",
          "data": {
            "text/plain": [
              "                                               link  \\\n",
              "0                         /job/operations-manager-6   \n",
              "1                       /job/account-manager-credit   \n",
              "2                                /job/legal-manager   \n",
              "3  /job/district-coordinatorjunior-district-manager   \n",
              "4                       /job/radio-sales-executives   \n",
              "\n",
              "                                          title        company_link  \\\n",
              "0                            Operations Manager         GardaWorld    \n",
              "1                       Account Manager- Credit              Yellow   \n",
              "2                                 Legal Manager         COPEDU PLC    \n",
              "3  District Coordinator/Junior District Manager  EarthEnable Rwanda   \n",
              "4                        Radio Sales Executives     ROYAL RADIO LTD   \n",
              "\n",
              "              company type                                        description  \n",
              "0         GardaWorld   Job  Job Description– Operations ManagerPosition/Em...  \n",
              "1              Yellow  Job  Position:Account Manager- CreditLocations:Mala...  \n",
              "2         COPEDU PLC   Job  NOTICE OF RECRUITMENTCOPEDU PLC, is a trading ...  \n",
              "3  EarthEnable Rwanda  Job  JOB DESCRIPTION:DISTRICT COORDINATOR/JUNIOR DI...  \n",
              "4     ROYAL RADIO LTD  Job  JOB OPPORTUNITY94.3 ROYAL FM is opening up a j...  "
            ],
            "text/html": [
              "\n",
              "  <div id=\"df-b865c018-c9f6-4cd9-97f6-8f56ef8ac452\">\n",
              "    <div class=\"colab-df-container\">\n",
              "      <div>\n",
              "<style scoped>\n",
              "    .dataframe tbody tr th:only-of-type {\n",
              "        vertical-align: middle;\n",
              "    }\n",
              "\n",
              "    .dataframe tbody tr th {\n",
              "        vertical-align: top;\n",
              "    }\n",
              "\n",
              "    .dataframe thead th {\n",
              "        text-align: right;\n",
              "    }\n",
              "</style>\n",
              "<table border=\"1\" class=\"dataframe\">\n",
              "  <thead>\n",
              "    <tr style=\"text-align: right;\">\n",
              "      <th></th>\n",
              "      <th>link</th>\n",
              "      <th>title</th>\n",
              "      <th>company_link</th>\n",
              "      <th>company</th>\n",
              "      <th>type</th>\n",
              "      <th>description</th>\n",
              "    </tr>\n",
              "  </thead>\n",
              "  <tbody>\n",
              "    <tr>\n",
              "      <th>0</th>\n",
              "      <td>/job/operations-manager-6</td>\n",
              "      <td>Operations Manager</td>\n",
              "      <td>GardaWorld</td>\n",
              "      <td>GardaWorld</td>\n",
              "      <td>Job</td>\n",
              "      <td>Job Description– Operations ManagerPosition/Em...</td>\n",
              "    </tr>\n",
              "    <tr>\n",
              "      <th>1</th>\n",
              "      <td>/job/account-manager-credit</td>\n",
              "      <td>Account Manager- Credit</td>\n",
              "      <td>Yellow</td>\n",
              "      <td>Yellow</td>\n",
              "      <td>Job</td>\n",
              "      <td>Position:Account Manager- CreditLocations:Mala...</td>\n",
              "    </tr>\n",
              "    <tr>\n",
              "      <th>2</th>\n",
              "      <td>/job/legal-manager</td>\n",
              "      <td>Legal Manager</td>\n",
              "      <td>COPEDU PLC</td>\n",
              "      <td>COPEDU PLC</td>\n",
              "      <td>Job</td>\n",
              "      <td>NOTICE OF RECRUITMENTCOPEDU PLC, is a trading ...</td>\n",
              "    </tr>\n",
              "    <tr>\n",
              "      <th>3</th>\n",
              "      <td>/job/district-coordinatorjunior-district-manager</td>\n",
              "      <td>District Coordinator/Junior District Manager</td>\n",
              "      <td>EarthEnable Rwanda</td>\n",
              "      <td>EarthEnable Rwanda</td>\n",
              "      <td>Job</td>\n",
              "      <td>JOB DESCRIPTION:DISTRICT COORDINATOR/JUNIOR DI...</td>\n",
              "    </tr>\n",
              "    <tr>\n",
              "      <th>4</th>\n",
              "      <td>/job/radio-sales-executives</td>\n",
              "      <td>Radio Sales Executives</td>\n",
              "      <td>ROYAL RADIO LTD</td>\n",
              "      <td>ROYAL RADIO LTD</td>\n",
              "      <td>Job</td>\n",
              "      <td>JOB OPPORTUNITY94.3 ROYAL FM is opening up a j...</td>\n",
              "    </tr>\n",
              "  </tbody>\n",
              "</table>\n",
              "</div>\n",
              "      <button class=\"colab-df-convert\" onclick=\"convertToInteractive('df-b865c018-c9f6-4cd9-97f6-8f56ef8ac452')\"\n",
              "              title=\"Convert this dataframe to an interactive table.\"\n",
              "              style=\"display:none;\">\n",
              "        \n",
              "  <svg xmlns=\"http://www.w3.org/2000/svg\" height=\"24px\"viewBox=\"0 0 24 24\"\n",
              "       width=\"24px\">\n",
              "    <path d=\"M0 0h24v24H0V0z\" fill=\"none\"/>\n",
              "    <path d=\"M18.56 5.44l.94 2.06.94-2.06 2.06-.94-2.06-.94-.94-2.06-.94 2.06-2.06.94zm-11 1L8.5 8.5l.94-2.06 2.06-.94-2.06-.94L8.5 2.5l-.94 2.06-2.06.94zm10 10l.94 2.06.94-2.06 2.06-.94-2.06-.94-.94-2.06-.94 2.06-2.06.94z\"/><path d=\"M17.41 7.96l-1.37-1.37c-.4-.4-.92-.59-1.43-.59-.52 0-1.04.2-1.43.59L10.3 9.45l-7.72 7.72c-.78.78-.78 2.05 0 2.83L4 21.41c.39.39.9.59 1.41.59.51 0 1.02-.2 1.41-.59l7.78-7.78 2.81-2.81c.8-.78.8-2.07 0-2.86zM5.41 20L4 18.59l7.72-7.72 1.47 1.35L5.41 20z\"/>\n",
              "  </svg>\n",
              "      </button>\n",
              "      \n",
              "  <style>\n",
              "    .colab-df-container {\n",
              "      display:flex;\n",
              "      flex-wrap:wrap;\n",
              "      gap: 12px;\n",
              "    }\n",
              "\n",
              "    .colab-df-convert {\n",
              "      background-color: #E8F0FE;\n",
              "      border: none;\n",
              "      border-radius: 50%;\n",
              "      cursor: pointer;\n",
              "      display: none;\n",
              "      fill: #1967D2;\n",
              "      height: 32px;\n",
              "      padding: 0 0 0 0;\n",
              "      width: 32px;\n",
              "    }\n",
              "\n",
              "    .colab-df-convert:hover {\n",
              "      background-color: #E2EBFA;\n",
              "      box-shadow: 0px 1px 2px rgba(60, 64, 67, 0.3), 0px 1px 3px 1px rgba(60, 64, 67, 0.15);\n",
              "      fill: #174EA6;\n",
              "    }\n",
              "\n",
              "    [theme=dark] .colab-df-convert {\n",
              "      background-color: #3B4455;\n",
              "      fill: #D2E3FC;\n",
              "    }\n",
              "\n",
              "    [theme=dark] .colab-df-convert:hover {\n",
              "      background-color: #434B5C;\n",
              "      box-shadow: 0px 1px 3px 1px rgba(0, 0, 0, 0.15);\n",
              "      filter: drop-shadow(0px 1px 2px rgba(0, 0, 0, 0.3));\n",
              "      fill: #FFFFFF;\n",
              "    }\n",
              "  </style>\n",
              "\n",
              "      <script>\n",
              "        const buttonEl =\n",
              "          document.querySelector('#df-b865c018-c9f6-4cd9-97f6-8f56ef8ac452 button.colab-df-convert');\n",
              "        buttonEl.style.display =\n",
              "          google.colab.kernel.accessAllowed ? 'block' : 'none';\n",
              "\n",
              "        async function convertToInteractive(key) {\n",
              "          const element = document.querySelector('#df-b865c018-c9f6-4cd9-97f6-8f56ef8ac452');\n",
              "          const dataTable =\n",
              "            await google.colab.kernel.invokeFunction('convertToInteractive',\n",
              "                                                     [key], {});\n",
              "          if (!dataTable) return;\n",
              "\n",
              "          const docLinkHtml = 'Like what you see? Visit the ' +\n",
              "            '<a target=\"_blank\" href=https://colab.research.google.com/notebooks/data_table.ipynb>data table notebook</a>'\n",
              "            + ' to learn more about interactive tables.';\n",
              "          element.innerHTML = '';\n",
              "          dataTable['output_type'] = 'display_data';\n",
              "          await google.colab.output.renderOutput(dataTable, element);\n",
              "          const docLink = document.createElement('div');\n",
              "          docLink.innerHTML = docLinkHtml;\n",
              "          element.appendChild(docLink);\n",
              "        }\n",
              "      </script>\n",
              "    </div>\n",
              "  </div>\n",
              "  "
            ]
          },
          "metadata": {},
          "execution_count": 30
        }
      ]
    },
    {
      "cell_type": "code",
      "source": [
        "tags = \"#informationtechnology #technology #it #cybersecurity #tech #computerscience #programming #business #coding #innovation #software #python #information #computer #informationsecurity #security #technologynews #java #networking #hacking #programmer #linux #technologyrocks #coder #technologythesedays #cloudcomputing #education #engineering #itservices #newtechnology\""
      ],
      "metadata": {
        "id": "OHKR0VKl2Skh"
      },
      "execution_count": null,
      "outputs": []
    },
    {
      "cell_type": "code",
      "source": [
        "tags.split('#')"
      ],
      "metadata": {
        "id": "E55zbbZ021PU",
        "outputId": "c75a1b9b-cde6-4027-a759-204bb5c2ed49",
        "colab": {
          "base_uri": "https://localhost:8080/"
        }
      },
      "execution_count": null,
      "outputs": [
        {
          "output_type": "execute_result",
          "data": {
            "text/plain": [
              "['',\n",
              " 'informationtechnology ',\n",
              " 'technology ',\n",
              " 'it ',\n",
              " 'cybersecurity ',\n",
              " 'tech ',\n",
              " 'computerscience ',\n",
              " 'programming ',\n",
              " 'business ',\n",
              " 'coding ',\n",
              " 'innovation ',\n",
              " 'software ',\n",
              " 'python ',\n",
              " 'information ',\n",
              " 'computer ',\n",
              " 'informationsecurity ',\n",
              " 'security ',\n",
              " 'technologynews ',\n",
              " 'java ',\n",
              " 'networking ',\n",
              " 'hacking ',\n",
              " 'programmer ',\n",
              " 'linux ',\n",
              " 'technologyrocks ',\n",
              " 'coder ',\n",
              " 'technologythesedays ',\n",
              " 'cloudcomputing ',\n",
              " 'education ',\n",
              " 'engineering ',\n",
              " 'itservices ',\n",
              " 'newtechnology']"
            ]
          },
          "metadata": {},
          "execution_count": 32
        }
      ]
    },
    {
      "cell_type": "markdown",
      "source": [
        "# ***Using Regular expression and key-words to retrieve IT/Software related job/consultancy opportunities(Tenders).***"
      ],
      "metadata": {
        "id": "n7FWvImJ1d9n"
      }
    },
    {
      "cell_type": "code",
      "source": [
        "keywords = \"\"\"information|technology|IT|cybersecurity|tech|computer science|programming|coding|software|python|computer|information security|technologynews|java|networking|hacking|programmer|linux|coder|cloudcomputing|computer engineering\"\"\""
      ],
      "metadata": {
        "id": "Cc0pyfWl3AiV"
      },
      "execution_count": null,
      "outputs": []
    },
    {
      "cell_type": "code",
      "source": [
        "df['IT Job'] = False\n",
        "df['keywords found'] = None\n",
        "def isIT_Job():\n",
        "  pattern = re.compile(keywords)\n",
        "  for index in range(len(df)):\n",
        "    try:\n",
        "      if len(pattern.findall(df.iloc[index][\"title\"])) >= 1:\n",
        "        df['IT Job'][index] = True\n",
        "        df['keywords found'][index] = set(pattern.findall(df.iloc[index][\"title\"]))\n",
        "        # print(set(pattern.findall(df.iloc[index][\"Job Description\"])), df.iloc[index][\"Job Title\"])\n",
        "    except TypeError:\n",
        "      pass\n",
        "      # print(\"content: \", df.iloc[index][\"Job Description\"])\n",
        "    #\n",
        "isIT_Job()"
      ],
      "metadata": {
        "colab": {
          "base_uri": "https://localhost:8080/"
        },
        "id": "AppPbjHx1-qT",
        "outputId": "f59d812c-0d79-4ca7-a1e2-8879794ae082"
      },
      "execution_count": null,
      "outputs": [
        {
          "output_type": "stream",
          "name": "stderr",
          "text": [
            "/usr/local/lib/python3.7/dist-packages/ipykernel_launcher.py:8: SettingWithCopyWarning: \n",
            "A value is trying to be set on a copy of a slice from a DataFrame\n",
            "\n",
            "See the caveats in the documentation: https://pandas.pydata.org/pandas-docs/stable/user_guide/indexing.html#returning-a-view-versus-a-copy\n",
            "  \n",
            "/usr/local/lib/python3.7/dist-packages/ipykernel_launcher.py:9: SettingWithCopyWarning: \n",
            "A value is trying to be set on a copy of a slice from a DataFrame\n",
            "\n",
            "See the caveats in the documentation: https://pandas.pydata.org/pandas-docs/stable/user_guide/indexing.html#returning-a-view-versus-a-copy\n",
            "  if __name__ == '__main__':\n"
          ]
        }
      ]
    },
    {
      "cell_type": "code",
      "source": [
        "df3 = df[df['IT Job'] == True]\n",
        "df3"
      ],
      "metadata": {
        "colab": {
          "base_uri": "https://localhost:8080/",
          "height": 208
        },
        "id": "jH-y5iax2N7t",
        "outputId": "08f67b81-5f51-4991-96ab-42a653ef228b"
      },
      "execution_count": null,
      "outputs": [
        {
          "output_type": "execute_result",
          "data": {
            "text/plain": [
              "                                 link                         title  \\\n",
              "41           /job/it-and-mis-director           IT and MIS Director   \n",
              "73  /job/it-operations-senior-manager  IT Operations Senior Manager   \n",
              "\n",
              "                    company_link                       company type  \\\n",
              "41  CHANCEN International Rwanda  CHANCEN International Rwanda  Job   \n",
              "73                 One Acre Fund                 One Acre Fund  Job   \n",
              "\n",
              "                                          description  IT Job keywords found  \n",
              "41  CHANCEN International is a non-profit organiza...    True           {IT}  \n",
              "73  About One Acre FundFounded in 2006, One Acre F...    True           {IT}  "
            ],
            "text/html": [
              "\n",
              "  <div id=\"df-235a6426-036b-4071-b8cb-982c518c5bbd\">\n",
              "    <div class=\"colab-df-container\">\n",
              "      <div>\n",
              "<style scoped>\n",
              "    .dataframe tbody tr th:only-of-type {\n",
              "        vertical-align: middle;\n",
              "    }\n",
              "\n",
              "    .dataframe tbody tr th {\n",
              "        vertical-align: top;\n",
              "    }\n",
              "\n",
              "    .dataframe thead th {\n",
              "        text-align: right;\n",
              "    }\n",
              "</style>\n",
              "<table border=\"1\" class=\"dataframe\">\n",
              "  <thead>\n",
              "    <tr style=\"text-align: right;\">\n",
              "      <th></th>\n",
              "      <th>link</th>\n",
              "      <th>title</th>\n",
              "      <th>company_link</th>\n",
              "      <th>company</th>\n",
              "      <th>type</th>\n",
              "      <th>description</th>\n",
              "      <th>IT Job</th>\n",
              "      <th>keywords found</th>\n",
              "    </tr>\n",
              "  </thead>\n",
              "  <tbody>\n",
              "    <tr>\n",
              "      <th>41</th>\n",
              "      <td>/job/it-and-mis-director</td>\n",
              "      <td>IT and MIS Director</td>\n",
              "      <td>CHANCEN International Rwanda</td>\n",
              "      <td>CHANCEN International Rwanda</td>\n",
              "      <td>Job</td>\n",
              "      <td>CHANCEN International is a non-profit organiza...</td>\n",
              "      <td>True</td>\n",
              "      <td>{IT}</td>\n",
              "    </tr>\n",
              "    <tr>\n",
              "      <th>73</th>\n",
              "      <td>/job/it-operations-senior-manager</td>\n",
              "      <td>IT Operations Senior Manager</td>\n",
              "      <td>One Acre Fund</td>\n",
              "      <td>One Acre Fund</td>\n",
              "      <td>Job</td>\n",
              "      <td>About One Acre FundFounded in 2006, One Acre F...</td>\n",
              "      <td>True</td>\n",
              "      <td>{IT}</td>\n",
              "    </tr>\n",
              "  </tbody>\n",
              "</table>\n",
              "</div>\n",
              "      <button class=\"colab-df-convert\" onclick=\"convertToInteractive('df-235a6426-036b-4071-b8cb-982c518c5bbd')\"\n",
              "              title=\"Convert this dataframe to an interactive table.\"\n",
              "              style=\"display:none;\">\n",
              "        \n",
              "  <svg xmlns=\"http://www.w3.org/2000/svg\" height=\"24px\"viewBox=\"0 0 24 24\"\n",
              "       width=\"24px\">\n",
              "    <path d=\"M0 0h24v24H0V0z\" fill=\"none\"/>\n",
              "    <path d=\"M18.56 5.44l.94 2.06.94-2.06 2.06-.94-2.06-.94-.94-2.06-.94 2.06-2.06.94zm-11 1L8.5 8.5l.94-2.06 2.06-.94-2.06-.94L8.5 2.5l-.94 2.06-2.06.94zm10 10l.94 2.06.94-2.06 2.06-.94-2.06-.94-.94-2.06-.94 2.06-2.06.94z\"/><path d=\"M17.41 7.96l-1.37-1.37c-.4-.4-.92-.59-1.43-.59-.52 0-1.04.2-1.43.59L10.3 9.45l-7.72 7.72c-.78.78-.78 2.05 0 2.83L4 21.41c.39.39.9.59 1.41.59.51 0 1.02-.2 1.41-.59l7.78-7.78 2.81-2.81c.8-.78.8-2.07 0-2.86zM5.41 20L4 18.59l7.72-7.72 1.47 1.35L5.41 20z\"/>\n",
              "  </svg>\n",
              "      </button>\n",
              "      \n",
              "  <style>\n",
              "    .colab-df-container {\n",
              "      display:flex;\n",
              "      flex-wrap:wrap;\n",
              "      gap: 12px;\n",
              "    }\n",
              "\n",
              "    .colab-df-convert {\n",
              "      background-color: #E8F0FE;\n",
              "      border: none;\n",
              "      border-radius: 50%;\n",
              "      cursor: pointer;\n",
              "      display: none;\n",
              "      fill: #1967D2;\n",
              "      height: 32px;\n",
              "      padding: 0 0 0 0;\n",
              "      width: 32px;\n",
              "    }\n",
              "\n",
              "    .colab-df-convert:hover {\n",
              "      background-color: #E2EBFA;\n",
              "      box-shadow: 0px 1px 2px rgba(60, 64, 67, 0.3), 0px 1px 3px 1px rgba(60, 64, 67, 0.15);\n",
              "      fill: #174EA6;\n",
              "    }\n",
              "\n",
              "    [theme=dark] .colab-df-convert {\n",
              "      background-color: #3B4455;\n",
              "      fill: #D2E3FC;\n",
              "    }\n",
              "\n",
              "    [theme=dark] .colab-df-convert:hover {\n",
              "      background-color: #434B5C;\n",
              "      box-shadow: 0px 1px 3px 1px rgba(0, 0, 0, 0.15);\n",
              "      filter: drop-shadow(0px 1px 2px rgba(0, 0, 0, 0.3));\n",
              "      fill: #FFFFFF;\n",
              "    }\n",
              "  </style>\n",
              "\n",
              "      <script>\n",
              "        const buttonEl =\n",
              "          document.querySelector('#df-235a6426-036b-4071-b8cb-982c518c5bbd button.colab-df-convert');\n",
              "        buttonEl.style.display =\n",
              "          google.colab.kernel.accessAllowed ? 'block' : 'none';\n",
              "\n",
              "        async function convertToInteractive(key) {\n",
              "          const element = document.querySelector('#df-235a6426-036b-4071-b8cb-982c518c5bbd');\n",
              "          const dataTable =\n",
              "            await google.colab.kernel.invokeFunction('convertToInteractive',\n",
              "                                                     [key], {});\n",
              "          if (!dataTable) return;\n",
              "\n",
              "          const docLinkHtml = 'Like what you see? Visit the ' +\n",
              "            '<a target=\"_blank\" href=https://colab.research.google.com/notebooks/data_table.ipynb>data table notebook</a>'\n",
              "            + ' to learn more about interactive tables.';\n",
              "          element.innerHTML = '';\n",
              "          dataTable['output_type'] = 'display_data';\n",
              "          await google.colab.output.renderOutput(dataTable, element);\n",
              "          const docLink = document.createElement('div');\n",
              "          docLink.innerHTML = docLinkHtml;\n",
              "          element.appendChild(docLink);\n",
              "        }\n",
              "      </script>\n",
              "    </div>\n",
              "  </div>\n",
              "  "
            ]
          },
          "metadata": {},
          "execution_count": 35
        }
      ]
    },
    {
      "cell_type": "code",
      "source": [
        "type(df3[['description']])"
      ],
      "metadata": {
        "colab": {
          "base_uri": "https://localhost:8080/"
        },
        "id": "wS3ouBM72OtI",
        "outputId": "24fdd4b4-62df-4489-c804-e9ad0cb10e03"
      },
      "execution_count": null,
      "outputs": [
        {
          "output_type": "execute_result",
          "data": {
            "text/plain": [
              "pandas.core.frame.DataFrame"
            ]
          },
          "metadata": {},
          "execution_count": 36
        }
      ]
    },
    {
      "cell_type": "code",
      "source": [
        "df3.to_dict(\"r\")"
      ],
      "metadata": {
        "id": "JPm102v72efX"
      },
      "execution_count": null,
      "outputs": []
    },
    {
      "cell_type": "markdown",
      "source": [
        "# HOSTING **WORK**"
      ],
      "metadata": {
        "id": "6mP69tZH3TZp"
      }
    },
    {
      "cell_type": "code",
      "source": [
        "!pip install -U easynmt"
      ],
      "metadata": {
        "colab": {
          "base_uri": "https://localhost:8080/"
        },
        "id": "8GUIqkuL2kCT",
        "outputId": "cf6b7757-48c2-46f7-a72e-966f1efc03c1"
      },
      "execution_count": null,
      "outputs": [
        {
          "output_type": "stream",
          "name": "stdout",
          "text": [
            "Looking in indexes: https://pypi.org/simple, https://us-python.pkg.dev/colab-wheels/public/simple/\n",
            "Collecting easynmt\n",
            "  Downloading EasyNMT-2.0.2.tar.gz (23 kB)\n",
            "Requirement already satisfied: tqdm in /usr/local/lib/python3.7/dist-packages (from easynmt) (4.64.1)\n",
            "Collecting transformers<5,>=4.4\n",
            "  Downloading transformers-4.24.0-py3-none-any.whl (5.5 MB)\n",
            "\u001b[K     |████████████████████████████████| 5.5 MB 28.3 MB/s \n",
            "\u001b[?25hRequirement already satisfied: torch>=1.6.0 in /usr/local/lib/python3.7/dist-packages (from easynmt) (1.12.1+cu113)\n",
            "Requirement already satisfied: numpy in /usr/local/lib/python3.7/dist-packages (from easynmt) (1.21.6)\n",
            "Requirement already satisfied: nltk in /usr/local/lib/python3.7/dist-packages (from easynmt) (3.7)\n",
            "Collecting sentencepiece\n",
            "  Downloading sentencepiece-0.1.97-cp37-cp37m-manylinux_2_17_x86_64.manylinux2014_x86_64.whl (1.3 MB)\n",
            "\u001b[K     |████████████████████████████████| 1.3 MB 38.9 MB/s \n",
            "\u001b[?25hCollecting fasttext\n",
            "  Downloading fasttext-0.9.2.tar.gz (68 kB)\n",
            "\u001b[K     |████████████████████████████████| 68 kB 6.4 MB/s \n",
            "\u001b[?25hRequirement already satisfied: protobuf in /usr/local/lib/python3.7/dist-packages (from easynmt) (3.19.6)\n",
            "Requirement already satisfied: typing-extensions in /usr/local/lib/python3.7/dist-packages (from torch>=1.6.0->easynmt) (4.1.1)\n",
            "Requirement already satisfied: importlib-metadata in /usr/local/lib/python3.7/dist-packages (from transformers<5,>=4.4->easynmt) (4.13.0)\n",
            "Requirement already satisfied: requests in /usr/local/lib/python3.7/dist-packages (from transformers<5,>=4.4->easynmt) (2.23.0)\n",
            "Requirement already satisfied: regex!=2019.12.17 in /usr/local/lib/python3.7/dist-packages (from transformers<5,>=4.4->easynmt) (2022.6.2)\n",
            "Requirement already satisfied: packaging>=20.0 in /usr/local/lib/python3.7/dist-packages (from transformers<5,>=4.4->easynmt) (21.3)\n",
            "Collecting huggingface-hub<1.0,>=0.10.0\n",
            "  Downloading huggingface_hub-0.10.1-py3-none-any.whl (163 kB)\n",
            "\u001b[K     |████████████████████████████████| 163 kB 42.2 MB/s \n",
            "\u001b[?25hCollecting tokenizers!=0.11.3,<0.14,>=0.11.1\n",
            "  Downloading tokenizers-0.13.2-cp37-cp37m-manylinux_2_17_x86_64.manylinux2014_x86_64.whl (7.6 MB)\n",
            "\u001b[K     |████████████████████████████████| 7.6 MB 37.8 MB/s \n",
            "\u001b[?25hRequirement already satisfied: filelock in /usr/local/lib/python3.7/dist-packages (from transformers<5,>=4.4->easynmt) (3.8.0)\n",
            "Requirement already satisfied: pyyaml>=5.1 in /usr/local/lib/python3.7/dist-packages (from transformers<5,>=4.4->easynmt) (6.0)\n",
            "Requirement already satisfied: pyparsing!=3.0.5,>=2.0.2 in /usr/local/lib/python3.7/dist-packages (from packaging>=20.0->transformers<5,>=4.4->easynmt) (3.0.9)\n",
            "Collecting pybind11>=2.2\n",
            "  Using cached pybind11-2.10.1-py3-none-any.whl (216 kB)\n",
            "Requirement already satisfied: setuptools>=0.7.0 in /usr/local/lib/python3.7/dist-packages (from fasttext->easynmt) (57.4.0)\n",
            "Requirement already satisfied: zipp>=0.5 in /usr/local/lib/python3.7/dist-packages (from importlib-metadata->transformers<5,>=4.4->easynmt) (3.10.0)\n",
            "Requirement already satisfied: click in /usr/local/lib/python3.7/dist-packages (from nltk->easynmt) (7.1.2)\n",
            "Requirement already satisfied: joblib in /usr/local/lib/python3.7/dist-packages (from nltk->easynmt) (1.2.0)\n",
            "Requirement already satisfied: certifi>=2017.4.17 in /usr/local/lib/python3.7/dist-packages (from requests->transformers<5,>=4.4->easynmt) (2022.9.24)\n",
            "Requirement already satisfied: chardet<4,>=3.0.2 in /usr/local/lib/python3.7/dist-packages (from requests->transformers<5,>=4.4->easynmt) (3.0.4)\n",
            "Requirement already satisfied: idna<3,>=2.5 in /usr/local/lib/python3.7/dist-packages (from requests->transformers<5,>=4.4->easynmt) (2.10)\n",
            "Requirement already satisfied: urllib3!=1.25.0,!=1.25.1,<1.26,>=1.21.1 in /usr/local/lib/python3.7/dist-packages (from requests->transformers<5,>=4.4->easynmt) (1.24.3)\n",
            "Building wheels for collected packages: easynmt, fasttext\n",
            "  Building wheel for easynmt (setup.py) ... \u001b[?25l\u001b[?25hdone\n",
            "  Created wheel for easynmt: filename=EasyNMT-2.0.2-py3-none-any.whl size=19919 sha256=3e9c445cf87c49166c6b25abdea55a8ec399c1eba16ad577a1afdb79e48a457a\n",
            "  Stored in directory: /root/.cache/pip/wheels/d1/57/06/53ca38645e14d4537a41e5a36da2026e10f54ae88240dd5190\n",
            "  Building wheel for fasttext (setup.py) ... \u001b[?25l\u001b[?25hdone\n",
            "  Created wheel for fasttext: filename=fasttext-0.9.2-cp37-cp37m-linux_x86_64.whl size=3164380 sha256=5438375166ab2223a4222c140edb1bcf07ad94b0d632ebecbb85f53b10eed99e\n",
            "  Stored in directory: /root/.cache/pip/wheels/4e/ca/bf/b020d2be95f7641801a6597a29c8f4f19e38f9c02a345bab9b\n",
            "Successfully built easynmt fasttext\n",
            "Installing collected packages: tokenizers, pybind11, huggingface-hub, transformers, sentencepiece, fasttext, easynmt\n",
            "Successfully installed easynmt-2.0.2 fasttext-0.9.2 huggingface-hub-0.10.1 pybind11-2.10.1 sentencepiece-0.1.97 tokenizers-0.13.2 transformers-4.24.0\n"
          ]
        }
      ]
    },
    {
      "cell_type": "code",
      "source": [
        "#FastAPI\n",
        "!pip install fastapi pyngrok  uvicorn nest-asyncio\n",
        "# Flask\n",
        "#!pip install flask pyngrok  gunicorn nest-asyncio"
      ],
      "metadata": {
        "colab": {
          "base_uri": "https://localhost:8080/"
        },
        "id": "vokd3_YJ3dkt",
        "outputId": "c951ae91-57b4-4527-b6f3-13fa4212f60a"
      },
      "execution_count": null,
      "outputs": [
        {
          "output_type": "stream",
          "name": "stdout",
          "text": [
            "Looking in indexes: https://pypi.org/simple, https://us-python.pkg.dev/colab-wheels/public/simple/\n",
            "Collecting fastapi\n",
            "  Downloading fastapi-0.86.0-py3-none-any.whl (55 kB)\n",
            "\u001b[K     |████████████████████████████████| 55 kB 3.5 MB/s \n",
            "\u001b[?25hCollecting pyngrok\n",
            "  Downloading pyngrok-5.1.0.tar.gz (745 kB)\n",
            "\u001b[K     |████████████████████████████████| 745 kB 49.4 MB/s \n",
            "\u001b[?25hCollecting uvicorn\n",
            "  Downloading uvicorn-0.19.0-py3-none-any.whl (56 kB)\n",
            "\u001b[K     |████████████████████████████████| 56 kB 4.7 MB/s \n",
            "\u001b[?25hCollecting nest-asyncio\n",
            "  Downloading nest_asyncio-1.5.6-py3-none-any.whl (5.2 kB)\n",
            "Requirement already satisfied: pydantic!=1.7,!=1.7.1,!=1.7.2,!=1.7.3,!=1.8,!=1.8.1,<2.0.0,>=1.6.2 in /usr/local/lib/python3.7/dist-packages (from fastapi) (1.10.2)\n",
            "Collecting starlette==0.20.4\n",
            "  Downloading starlette-0.20.4-py3-none-any.whl (63 kB)\n",
            "\u001b[K     |████████████████████████████████| 63 kB 2.0 MB/s \n",
            "\u001b[?25hRequirement already satisfied: typing-extensions>=3.10.0 in /usr/local/lib/python3.7/dist-packages (from starlette==0.20.4->fastapi) (4.1.1)\n",
            "Collecting anyio<5,>=3.4.0\n",
            "  Downloading anyio-3.6.2-py3-none-any.whl (80 kB)\n",
            "\u001b[K     |████████████████████████████████| 80 kB 10.0 MB/s \n",
            "\u001b[?25hCollecting sniffio>=1.1\n",
            "  Downloading sniffio-1.3.0-py3-none-any.whl (10 kB)\n",
            "Requirement already satisfied: idna>=2.8 in /usr/local/lib/python3.7/dist-packages (from anyio<5,>=3.4.0->starlette==0.20.4->fastapi) (2.10)\n",
            "Requirement already satisfied: PyYAML in /usr/local/lib/python3.7/dist-packages (from pyngrok) (6.0)\n",
            "Requirement already satisfied: click>=7.0 in /usr/local/lib/python3.7/dist-packages (from uvicorn) (7.1.2)\n",
            "Collecting h11>=0.8\n",
            "  Downloading h11-0.14.0-py3-none-any.whl (58 kB)\n",
            "\u001b[K     |████████████████████████████████| 58 kB 6.1 MB/s \n",
            "\u001b[?25hBuilding wheels for collected packages: pyngrok\n",
            "  Building wheel for pyngrok (setup.py) ... \u001b[?25l\u001b[?25hdone\n",
            "  Created wheel for pyngrok: filename=pyngrok-5.1.0-py3-none-any.whl size=19007 sha256=60696bb2f3a63ff95f5320b2888ff35f3d1ba860ede44f3dbff002abe1646c6b\n",
            "  Stored in directory: /root/.cache/pip/wheels/bf/e6/af/ccf6598ecefecd44104069371795cb9b3afbcd16987f6ccfb3\n",
            "Successfully built pyngrok\n",
            "Installing collected packages: sniffio, anyio, starlette, h11, uvicorn, pyngrok, nest-asyncio, fastapi\n",
            "Successfully installed anyio-3.6.2 fastapi-0.86.0 h11-0.14.0 nest-asyncio-1.5.6 pyngrok-5.1.0 sniffio-1.3.0 starlette-0.20.4 uvicorn-0.19.0\n"
          ]
        }
      ]
    },
    {
      "cell_type": "code",
      "source": [
        "!ngrok authtoken 2HJPxGxCEP4kvWWdNAnxrxYcaO7_5ZoRfnsdZZ6BjAKBpzPLA"
      ],
      "metadata": {
        "colab": {
          "base_uri": "https://localhost:8080/"
        },
        "id": "1gVhTXRY3tu2",
        "outputId": "cc67ee37-a2d8-4404-8e81-ad20df54dc43"
      },
      "execution_count": null,
      "outputs": [
        {
          "output_type": "stream",
          "name": "stdout",
          "text": [
            "Authtoken saved to configuration file: /root/.ngrok2/ngrok.yml\n"
          ]
        }
      ]
    },
    {
      "cell_type": "code",
      "source": [
        "\n",
        "from fastapi import FastAPI, Request\n",
        "from datetime import datetime\n",
        "from fastapi.responses import HTMLResponse\n",
        "from easynmt import EasyNMT\n",
        "from fastapi import Response\n",
        "\n",
        "model = EasyNMT('opus-mt')#starting the model Instance\n",
        "\n",
        "storage = FastAPI(title='MY FASTAPI') #Starting the FastAPI Instance\n",
        "\n",
        "@storage.get('/')\n",
        "def index():\n",
        "    return \"My name is Gahongayire Belise, This is my API\"\n",
        "\n",
        "\n",
        "@storage.get('/data')\n",
        "def show_data():\n",
        "  return df3.to_dict(\"r\")\n",
        "\n",
        "@storage.get('/translation')\n",
        "def translate(lang: str=''):\n",
        "  previous_lang = 'en'\n",
        "  for row in range(len(df3)):\n",
        "    try:\n",
        "      df3.loc[row]['description'] = model.translate(df3.loc[row]['description'] , target_lang=lang)\n",
        "      df3.loc[row]['title'] = model.translate(df3.loc[row]['title']   ,target_lang=lang)\n",
        "    except AttributeError:\n",
        "      message = f\"\"\"<html>\n",
        "                    <h1>{lang} is not among the languages supported by easyNMT.<br>Try another language</h1></html>\n",
        "                \"\"\"\n",
        "    return HTMLResponse(message)\n",
        "\n"
      ],
      "metadata": {
        "colab": {
          "base_uri": "https://localhost:8080/"
        },
        "id": "wdatPIup35Vs",
        "outputId": "a99b6632-ee59-4432-8549-6ad0b0bcd792"
      },
      "execution_count": null,
      "outputs": [
        {
          "output_type": "stream",
          "name": "stderr",
          "text": [
            "11.9kB [00:00, 7.46MB/s]                   \n"
          ]
        }
      ]
    },
    {
      "cell_type": "code",
      "source": [
        "import nest_asyncio\n",
        "from pyngrok import ngrok\n",
        "import uvicorn\n",
        "\n",
        "ngrok_tunnel = ngrok.connect(8000)\n",
        "print(\"REST API started\")\n",
        "print(\"Your public API URL:\", ngrok_tunnel.public_url)\n",
        "print(\"You can for example open the following URL in your browser: {}?target_lang=en&text=Hallo%20Welt\".format(ngrok_tunnel.public_url))\n",
        "\n",
        "nest_asyncio.apply()\n",
        "uvicorn.run(storage, port=8000)"
      ],
      "metadata": {
        "colab": {
          "base_uri": "https://localhost:8080/"
        },
        "id": "qUcbUi6u5eZ9",
        "outputId": "7a1cd87d-92e3-4bf1-b6f5-4ddb3c3173d5"
      },
      "execution_count": null,
      "outputs": [
        {
          "output_type": "stream",
          "name": "stderr",
          "text": [
            "INFO:     Started server process [75]\n",
            "INFO:     Waiting for application startup.\n",
            "INFO:     Application startup complete.\n",
            "INFO:     Uvicorn running on http://127.0.0.1:8000 (Press CTRL+C to quit)\n"
          ]
        },
        {
          "output_type": "stream",
          "name": "stdout",
          "text": [
            "REST API started\n",
            "Your public API URL: http://4ff7-35-245-16-71.ngrok.io\n",
            "You can for example open the following URL in your browser: http://4ff7-35-245-16-71.ngrok.io?target_lang=en&text=Hallo%20Welt\n"
          ]
        }
      ]
    },
    {
      "cell_type": "code",
      "source": [
        "!pkill ngrok"
      ],
      "metadata": {
        "id": "0vdi6g8p5yxI"
      },
      "execution_count": null,
      "outputs": []
    }
  ],
  "metadata": {
    "colab": {
      "provenance": [],
      "authorship_tag": "ABX9TyOyMvpXqZEXaxISnUq1zk1t",
      "include_colab_link": true
    },
    "kernelspec": {
      "display_name": "Python 3",
      "name": "python3"
    },
    "language_info": {
      "name": "python"
    }
  },
  "nbformat": 4,
  "nbformat_minor": 0
}