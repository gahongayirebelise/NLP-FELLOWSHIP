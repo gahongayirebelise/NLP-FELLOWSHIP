{
  "cells": [
    {
      "cell_type": "markdown",
      "metadata": {
        "id": "view-in-github",
        "colab_type": "text"
      },
      "source": [
        "<a href=\"https://colab.research.google.com/github/gahongayirebelise/NLP-FELLOWSHIP/blob/main/GIB.ipynb\" target=\"_parent\"><img src=\"https://colab.research.google.com/assets/colab-badge.svg\" alt=\"Open In Colab\"/></a>"
      ]
    },
    {
      "cell_type": "code",
      "execution_count": 2,
      "metadata": {
        "id": "kpFG1r-Kf2vy"
      },
      "outputs": [],
      "source": [
        "import json\n",
        "#import math\n",
        "from google.colab import drive"
      ]
    },
    {
      "cell_type": "code",
      "execution_count": 13,
      "metadata": {
        "colab": {
          "base_uri": "https://localhost:8080/"
        },
        "id": "AC0B1OInkpBz",
        "outputId": "03a1cceb-546d-457d-c970-f524d4492613"
      },
      "outputs": [
        {
          "output_type": "stream",
          "name": "stdout",
          "text": [
            "Drive already mounted at /content/drive; to attempt to forcibly remount, call drive.mount(\"/content/drive\", force_remount=True).\n"
          ]
        }
      ],
      "source": [
        "drive.mount(\"/content/drive\")"
      ]
    },
    {
      "cell_type": "markdown",
      "metadata": {
        "id": "qC9PiRs7gZsU"
      },
      "source": [
        "DAY 1: JSON DATA (Javascript Object Notation)\n"
      ]
    },
    {
      "cell_type": "markdown",
      "metadata": {
        "id": "cvUH-fQFhMbE"
      },
      "source": [
        "functions of json\n",
        "1. dump\n",
        "2. dumps\n",
        "3. load\n",
        "4. loads"
      ]
    },
    {
      "cell_type": "code",
      "execution_count": 4,
      "metadata": {
        "id": "a3SimVO2glG_"
      },
      "outputs": [],
      "source": [
        "# dump\n",
        "d1 = '''{\"name\":\"GB\", \"age\":19.5}'''\n",
        "d2 = {\"name\":\"GB\", \"age\":19.5}\n",
        "d3 = [1,2,3,4,5]\n",
        "d4 = 12\n",
        "d5 = 12.5\n",
        "d6 = (3,34,56,7)\n",
        "js1 = json.dumps(d1)\n",
        "js2 = json.dumps(d2)"
      ]
    },
    {
      "cell_type": "code",
      "execution_count": 16,
      "metadata": {
        "id": "d5dxILBoijEX"
      },
      "outputs": [],
      "source": [
        "with open(\"belize.json\", \"w\") as f:\n",
        "  json.dump(\"\"\"{\"key1\":[{\"name\":\"irene\"}, 20]}\"\"\", f)\n",
        "  "
      ]
    },
    {
      "cell_type": "markdown",
      "metadata": {
        "id": "fwqtj6JUnrO5"
      },
      "source": [
        "LOADS vs LOAD"
      ]
    },
    {
      "cell_type": "code",
      "execution_count": 17,
      "metadata": {
        "colab": {
          "base_uri": "https://localhost:8080/"
        },
        "id": "IkM_5ebXnqmQ",
        "outputId": "3c885137-2751-4392-97da-a22050e767b4"
      },
      "outputs": [
        {
          "output_type": "stream",
          "name": "stdout",
          "text": [
            "irene\n"
          ]
        }
      ],
      "source": [
        "# loads\n",
        "js_str = \"\"\"{\"key1\":[{\"name\":\"irene\"}, 20]}\"\"\"\n",
        "py_str = json.loads(js_str)\n",
        "print(py_str['key1'][0][\"name\"]) "
      ]
    },
    {
      "cell_type": "code",
      "execution_count": 7,
      "metadata": {
        "colab": {
          "base_uri": "https://localhost:8080/"
        },
        "id": "YmNgjAbmrcVu",
        "outputId": "ca222d63-fd49-4317-849f-02f13326844e"
      },
      "outputs": [
        {
          "output_type": "stream",
          "name": "stdout",
          "text": [
            "{\"key1\":[{\"name\":\"irene\"}, 20]}\n"
          ]
        }
      ],
      "source": [
        "# load\n",
        "f = open(\"/content/belize.json\")\n",
        "# print(f)\n",
        "data = json.load(f)\n",
        "print(data)\n",
        "f.close()\n"
      ]
    },
    {
      "cell_type": "markdown",
      "metadata": {
        "id": "5INS6MZZvzD7"
      },
      "source": [
        "DAY 2: WEB SCRAPING"
      ]
    },
    {
      "cell_type": "code",
      "execution_count": null,
      "metadata": {
        "id": "P_1Olj32v4Mn"
      },
      "outputs": [],
      "source": [
        "\n",
        "# from bs4 import BeautifulSoup\n",
        "from bs4 import BeautifulSoup as p\n",
        "import requests as r\n",
        "\n",
        "open_web = r.get(\"https://www.geeksforgeeks.org/read-json-file-using-python/\")\n",
        "# open_web = r.get(\"https://www.faranux.com/product-category/component/potentiometer/\")\n",
        "soup = p(open_web.text, \"html.parser\")\n",
        "print(soup.prettify())"
      ]
    },
    {
      "cell_type": "code",
      "execution_count": null,
      "metadata": {
        "id": "NTOj819J2kI5"
      },
      "outputs": [],
      "source": [
        "print(soup.body.prettify())"
      ]
    },
    {
      "cell_type": "code",
      "execution_count": 10,
      "metadata": {
        "colab": {
          "base_uri": "https://localhost:8080/"
        },
        "id": "76Inx2wS3U_h",
        "outputId": "1786c224-3fa5-4838-97f7-136c346ebba1"
      },
      "outputs": [
        {
          "output_type": "stream",
          "name": "stdout",
          "text": [
            "The full-form of JSON is JavaScript Object Notation. It means that a script (executable) file which is made of text in a programming language, is used to store and transfer the data. Python supports JSON through a built-in package called json. To use this feature, we import the json package in Python script. The text in JSON is done through quoted-string which contains the value in key-value mapping within { }. \n",
            "It’s pretty easy to load a JSON object in Python. Python has a built-in package called json, which can be used to work with JSON data. It’s done by using the JSON module, which provides us with a lot of methods which among loads() and load() methods are gonna help us to read the JSON file. \n",
            "The Deserialization of JSON means the conversion of JSON objects into their respective Python objects. The load()/loads() method is used for it. If you have used JSON data from another program or obtained as a string format of JSON, then it can easily be deserialized with load()/loads(), which is usually used to load from string, otherwise, the root object is in list or dict. See the following table given below. \n",
            " \n",
            "json.load(): json.load() accepts file object, parses the JSON data, populates a Python dictionary with the data and returns it back to you. \n",
            "Syntax:\n",
            "Example: Suppose the JSON file looks like this:\n",
            "\n",
            "We want to read the content of this file. Below is the implementation.\n"
          ]
        }
      ],
      "source": [
        "for text in [i.get_text() for i in soup.body.find_all(\"p\")]:\n",
        "  print(text)"
      ]
    },
    {
      "cell_type": "code",
      "execution_count": null,
      "metadata": {
        "id": "bisf1YUo4FpV"
      },
      "outputs": [],
      "source": [
        "# \n",
        "link_p = \"https://igihe.com/\"\n",
        "link_p2 = \"https://web.archive.org/web/20220214075742/https://www.igihe.com/\"\n",
        "\n",
        "page = r.get(link_p2).text\n",
        "s = p(page, \"html.parser\")\n",
        "# print(s.prettify())\n",
        "\n",
        "#parent_div = s.find(\"div\", class_ = \"col col-lg-4 col-md-4 col-sm-5\")\n",
        "spans = parent_div.find_all(\"span\", class_ = \"homenews-title\")\n"
      ]
    },
    {
      "cell_type": "code",
      "execution_count": null,
      "metadata": {
        "id": "IMV6MVEVCe1V"
      },
      "outputs": [],
      "source": [
        "links = []\n",
        "for span in spans:\n",
        "  links.append(span.find('a'))\n",
        "links\n"
      ]
    },
    {
      "cell_type": "code",
      "execution_count": null,
      "metadata": {
        "id": "0b8uU7NXDmkw"
      },
      "outputs": [],
      "source": [
        "link_titles = []\n",
        "for link in links:\n",
        "  link_titles.append(link['href'])\n",
        "link_titles"
      ]
    },
    {
      "cell_type": "code",
      "execution_count": null,
      "metadata": {
        "id": "hnK8Hl4eFRvK"
      },
      "outputs": [],
      "source": [
        "x = \"Gahongayire \"\n",
        "full_names = x + \"Belise\"\n",
        "full_names"
      ]
    },
    {
      "cell_type": "code",
      "execution_count": null,
      "metadata": {
        "id": "9juF_kemBEDu"
      },
      "outputs": [],
      "source": [
        "url_and_title = []\n",
        "for title in link_titles:\n",
        "  url_and_title.append(link_p2+title)\n",
        "url_and_title\n"
      ]
    },
    {
      "cell_type": "code",
      "execution_count": null,
      "metadata": {
        "id": "9ueNt3qNGgB1"
      },
      "outputs": [],
      "source": [
        "returned = []\n",
        "for url in url_and_title:\n",
        "  returned.append(r.get(url).text)\n",
        "\n",
        "returned"
      ]
    },
    {
      "cell_type": "code",
      "execution_count": null,
      "metadata": {
        "id": "bpmvBrZ0HwkM"
      },
      "outputs": [],
      "source": [
        "main_text = []\n",
        "for page_text in returned:\n",
        "  soup = p(page_text, \"html.parser\")\n",
        "  main_div = soup.find(\"div\", class_ = \"fulltext margintop10\")\n",
        "  paragraphs = main_div.find_all(\"p\")\n",
        "  for paragraph in paragraphs:\n",
        "    main_text.append(paragraph.get_text())\n",
        "\n"
      ]
    },
    {
      "cell_type": "code",
      "execution_count": null,
      "metadata": {
        "id": "45rgi25qJzZQ"
      },
      "outputs": [],
      "source": [
        "for text in main_text:\n",
        "  print(text)"
      ]
    },
    {
      "cell_type": "code",
      "execution_count": null,
      "metadata": {
        "id": "YggURW3iKK98"
      },
      "outputs": [],
      "source": [
        "# TURN PARAGRAPHS INTO TXT FILE\n",
        "with open(\"irene_belize.txt\", \"w\") as f:\n",
        "  for line in main_text:\n",
        "    f.write(line+\"\\n\")"
      ]
    }
  ],
  "metadata": {
    "colab": {
      "collapsed_sections": [],
      "provenance": [],
      "include_colab_link": true
    },
    "kernelspec": {
      "display_name": "Python 3",
      "name": "python3"
    },
    "language_info": {
      "name": "python"
    }
  },
  "nbformat": 4,
  "nbformat_minor": 0
}