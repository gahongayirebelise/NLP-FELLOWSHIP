{
  "nbformat": 4,
  "nbformat_minor": 0,
  "metadata": {
    "colab": {
      "provenance": [],
      "authorship_tag": "ABX9TyNsIQjbbOoio2YM2K5fVhWu",
      "include_colab_link": true
    },
    "kernelspec": {
      "name": "python3",
      "display_name": "Python 3"
    },
    "language_info": {
      "name": "python"
    },
    "accelerator": "GPU",
    "gpuClass": "standard"
  },
  "cells": [
    {
      "cell_type": "markdown",
      "metadata": {
        "id": "view-in-github",
        "colab_type": "text"
      },
      "source": [
        "<a href=\"https://colab.research.google.com/github/gahongayirebelise/NLP-FELLOWSHIP/blob/main/WEEK_4/EasyNMT.ipynb\" target=\"_parent\"><img src=\"https://colab.research.google.com/assets/colab-badge.svg\" alt=\"Open In Colab\"/></a>"
      ]
    },
    {
      "cell_type": "code",
      "execution_count": 9,
      "metadata": {
        "id": "CLDaJvN5JY33"
      },
      "outputs": [],
      "source": [
        "!pip install -U easynmt"
      ]
    },
    {
      "cell_type": "code",
      "source": [
        "from easynmt import EasyNMT"
      ],
      "metadata": {
        "id": "r4za782SL4Ku"
      },
      "execution_count": 37,
      "outputs": []
    },
    {
      "cell_type": "code",
      "source": [
        "model = EasyNMT('opus-mt')"
      ],
      "metadata": {
        "id": "EOi93s2GMU1y"
      },
      "execution_count": 38,
      "outputs": []
    },
    {
      "cell_type": "code",
      "source": [
        "sentence =[\n",
        "    'Jesus is a live!', \n",
        "    'Hands on projects is our priority', \n",
        "    'I have  a dream',\n",
        "    'The weather looks so hot', \n",
        "    'At the age of 23 i will have bought a villa',\n",
        "    'Iam not your friend my friend'\n",
        "]"
      ],
      "metadata": {
        "id": "FTgLv8bLMfcm"
      },
      "execution_count": 20,
      "outputs": []
    },
    {
      "cell_type": "code",
      "source": [
        "translation_fr = model.translate(sentence, target_lang='fr')\n",
        "translation_rw = model.translate(sentence, target_lang='rw')\n"
      ],
      "metadata": {
        "id": "NYXU3vPKOUlX"
      },
      "execution_count": null,
      "outputs": []
    },
    {
      "cell_type": "code",
      "source": [
        "sentence"
      ],
      "metadata": {
        "id": "iDCoTwiEOyvF"
      },
      "execution_count": null,
      "outputs": []
    },
    {
      "cell_type": "code",
      "source": [
        "translation_rw"
      ],
      "metadata": {
        "id": "vduamg_uO93I"
      },
      "execution_count": null,
      "outputs": []
    },
    {
      "cell_type": "code",
      "source": [
        "translation_fr"
      ],
      "metadata": {
        "id": "lfezz4yXPGA_"
      },
      "execution_count": null,
      "outputs": []
    },
    {
      "cell_type": "code",
      "source": [
        "import json"
      ],
      "metadata": {
        "id": "pbVDgximRk1j"
      },
      "execution_count": 10,
      "outputs": []
    },
    {
      "cell_type": "code",
      "source": [
        "with open('/content/language_codes.json', 'r+') as file_lang:\n",
        "  content = file_lang.read()"
      ],
      "metadata": {
        "id": "a2ThozKWT0kJ"
      },
      "execution_count": 11,
      "outputs": []
    },
    {
      "cell_type": "code",
      "source": [
        "languages_json = json.loads(content)"
      ],
      "metadata": {
        "id": "6xB7oZVqUPp1"
      },
      "execution_count": 12,
      "outputs": []
    },
    {
      "cell_type": "code",
      "source": [
        "languages_json"
      ],
      "metadata": {
        "id": "FQZ1mMKrVH0e"
      },
      "execution_count": null,
      "outputs": []
    },
    {
      "cell_type": "code",
      "source": [
        "languages_json[0]['code']"
      ],
      "metadata": {
        "colab": {
          "base_uri": "https://localhost:8080/",
          "height": 35
        },
        "id": "wDTCjTmrVR9F",
        "outputId": "bf9737cc-bdd5-481f-9190-35e4e9bc347e"
      },
      "execution_count": 35,
      "outputs": [
        {
          "output_type": "execute_result",
          "data": {
            "text/plain": [
              "'ab'"
            ],
            "application/vnd.google.colaboratory.intrinsic+json": {
              "type": "string"
            }
          },
          "metadata": {},
          "execution_count": 35
        }
      ]
    },
    {
      "cell_type": "code",
      "source": [
        "for language in languages_json[80:100]:\n",
        "  code = language['code']\n",
        "  try:\n",
        "    #model.translate(sentence, target_lang=code)\n",
        "    df[code] = model.translate(df['english'], target_lang=code)\n",
        "  except:\n",
        "   pass"
      ],
      "metadata": {
        "id": "rVwl65mjWIvV"
      },
      "execution_count": null,
      "outputs": []
    },
    {
      "cell_type": "code",
      "source": [
        "import pandas as pd"
      ],
      "metadata": {
        "id": "ASmZj2FaWql7"
      },
      "execution_count": 1,
      "outputs": []
    },
    {
      "cell_type": "code",
      "source": [
        "df = pd.DataFrame()"
      ],
      "metadata": {
        "id": "x47epX-GcAv4"
      },
      "execution_count": 2,
      "outputs": []
    },
    {
      "cell_type": "code",
      "source": [
        "rw_sentences =[\n",
        "    'Umwana murizi ntakurwa urutozi',\n",
        "    'Sepusi yankubise', \n",
        "    'Nzaba minisitiri', \n",
        "    'Amategeko y abakire'\n",
        "]"
      ],
      "metadata": {
        "id": "zd_088MIcb86"
      },
      "execution_count": 3,
      "outputs": []
    },
    {
      "cell_type": "code",
      "source": [
        "df['english'] = sentence[:4]"
      ],
      "metadata": {
        "id": "QAUcsmnedSlz"
      },
      "execution_count": 41,
      "outputs": []
    },
    {
      "cell_type": "code",
      "source": [
        "df"
      ],
      "metadata": {
        "id": "ygfXkkT1dZGu",
        "outputId": "89e2ac85-6048-4de9-db0e-d1c8aa34a3d4",
        "colab": {
          "base_uri": "https://localhost:8080/",
          "height": 586
        }
      },
      "execution_count": 42,
      "outputs": [
        {
          "output_type": "execute_result",
          "data": {
            "text/plain": [
              "                                                  rw  \\\n",
              "0                                    Yesu ni muzima!   \n",
              "1  Ibintu tugomba gushyira mu mwanya wa mbere ni ...   \n",
              "2                                             I am A   \n",
              "3                             color-rendering-intent   \n",
              "\n",
              "                      kinyarwanda                            english  \\\n",
              "0  Umwana murizi ntakurwa urutozi                   Jesus is a live!   \n",
              "1                Sepusi yankubise  Hands on projects is our priority   \n",
              "2                Nzaba minisitiri                    I have  a dream   \n",
              "3             Amategeko y abakire           The weather looks so hot   \n",
              "\n",
              "                              french  \\\n",
              "0                   Jesus is a live!   \n",
              "1  Hands on projects is our priority   \n",
              "2                    I have  a dream   \n",
              "3           The weather looks so hot   \n",
              "\n",
              "                                                  kg  \\\n",
              "0                              Yezu kele na luzingu!   \n",
              "1  Mbongo ya kisalu kele mambu ya kuluta mfunu yi...   \n",
              "2                                 Mono kele ti ndosi   \n",
              "3  Ntangu ke monana bonso nde yo me fuluka ti mup...   \n",
              "\n",
              "                                                  kj  \\\n",
              "0     Jesus oku li shili onghalamwenyo ya tya ngaho!   \n",
              "1  Ohai tu kwafele tu kale twa pitifa komesho oil...   \n",
              "2                      Ondi na efano laasho nda hala   \n",
              "3    Onghalo yomhepo ohai ende tai naipala neenghono   \n",
              "\n",
              "                                                  lg  \\\n",
              "0                                       Yesu mulamu!   \n",
              "1  Okwenyigira mu mirimu gy'awaka kye kintu kye t...   \n",
              "2                                     Nnina ekirooto   \n",
              "3            Embeera y'obudde yeeyongera okwonooneka   \n",
              "\n",
              "                                                  ln  \\\n",
              "0                               Yesu azali na bomoi!   \n",
              "1  Misala ya mabɔkɔ ezali likambo ya liboso oyo t...   \n",
              "2                                    Nazali na ndɔtɔ   \n",
              "3                     Likoló ezali na molunge makasi   \n",
              "\n",
              "                                                  lu  \\\n",
              "0                                       Yesu i mūmi!   \n",
              "1  Kutangidija bintu bya kutangidija kumeso i kwi...   \n",
              "2                                   Ngidi na kilotwa   \n",
              "3                     Ntanda idi na kyanga kikatampe   \n",
              "\n",
              "                                     gv  \\\n",
              "0              Nish bynney lesh Yeesey.   \n",
              "1  Mair-chlaa er ny jallooyn bun-chlaa.   \n",
              "2                    Cur er son cooiney   \n",
              "3                 Soilshaghey yn emshir   \n",
              "\n",
              "                                      mk  \\\n",
              "0                        Исус е во живо!   \n",
              "1  \"Рацете на проектите ни се приоритет\"   \n",
              "2                              Имам сон.   \n",
              "3           Времето изгледа многу жешко.   \n",
              "\n",
              "                                                  mg  \n",
              "0                                   Velona i Jesosy!  \n",
              "1  Ny tànana amin'ny tetikasa no laharam-pahamehanay  \n",
              "2                                    Manana nofy aho  \n",
              "3                     Toy ny mafana be ny toetrandro  "
            ],
            "text/html": [
              "\n",
              "  <div id=\"df-a0278e64-07bd-4b27-b47f-35174d588555\">\n",
              "    <div class=\"colab-df-container\">\n",
              "      <div>\n",
              "<style scoped>\n",
              "    .dataframe tbody tr th:only-of-type {\n",
              "        vertical-align: middle;\n",
              "    }\n",
              "\n",
              "    .dataframe tbody tr th {\n",
              "        vertical-align: top;\n",
              "    }\n",
              "\n",
              "    .dataframe thead th {\n",
              "        text-align: right;\n",
              "    }\n",
              "</style>\n",
              "<table border=\"1\" class=\"dataframe\">\n",
              "  <thead>\n",
              "    <tr style=\"text-align: right;\">\n",
              "      <th></th>\n",
              "      <th>rw</th>\n",
              "      <th>kinyarwanda</th>\n",
              "      <th>english</th>\n",
              "      <th>french</th>\n",
              "      <th>kg</th>\n",
              "      <th>kj</th>\n",
              "      <th>lg</th>\n",
              "      <th>ln</th>\n",
              "      <th>lu</th>\n",
              "      <th>gv</th>\n",
              "      <th>mk</th>\n",
              "      <th>mg</th>\n",
              "    </tr>\n",
              "  </thead>\n",
              "  <tbody>\n",
              "    <tr>\n",
              "      <th>0</th>\n",
              "      <td>Yesu ni muzima!</td>\n",
              "      <td>Umwana murizi ntakurwa urutozi</td>\n",
              "      <td>Jesus is a live!</td>\n",
              "      <td>Jesus is a live!</td>\n",
              "      <td>Yezu kele na luzingu!</td>\n",
              "      <td>Jesus oku li shili onghalamwenyo ya tya ngaho!</td>\n",
              "      <td>Yesu mulamu!</td>\n",
              "      <td>Yesu azali na bomoi!</td>\n",
              "      <td>Yesu i mūmi!</td>\n",
              "      <td>Nish bynney lesh Yeesey.</td>\n",
              "      <td>Исус е во живо!</td>\n",
              "      <td>Velona i Jesosy!</td>\n",
              "    </tr>\n",
              "    <tr>\n",
              "      <th>1</th>\n",
              "      <td>Ibintu tugomba gushyira mu mwanya wa mbere ni ...</td>\n",
              "      <td>Sepusi yankubise</td>\n",
              "      <td>Hands on projects is our priority</td>\n",
              "      <td>Hands on projects is our priority</td>\n",
              "      <td>Mbongo ya kisalu kele mambu ya kuluta mfunu yi...</td>\n",
              "      <td>Ohai tu kwafele tu kale twa pitifa komesho oil...</td>\n",
              "      <td>Okwenyigira mu mirimu gy'awaka kye kintu kye t...</td>\n",
              "      <td>Misala ya mabɔkɔ ezali likambo ya liboso oyo t...</td>\n",
              "      <td>Kutangidija bintu bya kutangidija kumeso i kwi...</td>\n",
              "      <td>Mair-chlaa er ny jallooyn bun-chlaa.</td>\n",
              "      <td>\"Рацете на проектите ни се приоритет\"</td>\n",
              "      <td>Ny tànana amin'ny tetikasa no laharam-pahamehanay</td>\n",
              "    </tr>\n",
              "    <tr>\n",
              "      <th>2</th>\n",
              "      <td>I am A</td>\n",
              "      <td>Nzaba minisitiri</td>\n",
              "      <td>I have  a dream</td>\n",
              "      <td>I have  a dream</td>\n",
              "      <td>Mono kele ti ndosi</td>\n",
              "      <td>Ondi na efano laasho nda hala</td>\n",
              "      <td>Nnina ekirooto</td>\n",
              "      <td>Nazali na ndɔtɔ</td>\n",
              "      <td>Ngidi na kilotwa</td>\n",
              "      <td>Cur er son cooiney</td>\n",
              "      <td>Имам сон.</td>\n",
              "      <td>Manana nofy aho</td>\n",
              "    </tr>\n",
              "    <tr>\n",
              "      <th>3</th>\n",
              "      <td>color-rendering-intent</td>\n",
              "      <td>Amategeko y abakire</td>\n",
              "      <td>The weather looks so hot</td>\n",
              "      <td>The weather looks so hot</td>\n",
              "      <td>Ntangu ke monana bonso nde yo me fuluka ti mup...</td>\n",
              "      <td>Onghalo yomhepo ohai ende tai naipala neenghono</td>\n",
              "      <td>Embeera y'obudde yeeyongera okwonooneka</td>\n",
              "      <td>Likoló ezali na molunge makasi</td>\n",
              "      <td>Ntanda idi na kyanga kikatampe</td>\n",
              "      <td>Soilshaghey yn emshir</td>\n",
              "      <td>Времето изгледа многу жешко.</td>\n",
              "      <td>Toy ny mafana be ny toetrandro</td>\n",
              "    </tr>\n",
              "  </tbody>\n",
              "</table>\n",
              "</div>\n",
              "      <button class=\"colab-df-convert\" onclick=\"convertToInteractive('df-a0278e64-07bd-4b27-b47f-35174d588555')\"\n",
              "              title=\"Convert this dataframe to an interactive table.\"\n",
              "              style=\"display:none;\">\n",
              "        \n",
              "  <svg xmlns=\"http://www.w3.org/2000/svg\" height=\"24px\"viewBox=\"0 0 24 24\"\n",
              "       width=\"24px\">\n",
              "    <path d=\"M0 0h24v24H0V0z\" fill=\"none\"/>\n",
              "    <path d=\"M18.56 5.44l.94 2.06.94-2.06 2.06-.94-2.06-.94-.94-2.06-.94 2.06-2.06.94zm-11 1L8.5 8.5l.94-2.06 2.06-.94-2.06-.94L8.5 2.5l-.94 2.06-2.06.94zm10 10l.94 2.06.94-2.06 2.06-.94-2.06-.94-.94-2.06-.94 2.06-2.06.94z\"/><path d=\"M17.41 7.96l-1.37-1.37c-.4-.4-.92-.59-1.43-.59-.52 0-1.04.2-1.43.59L10.3 9.45l-7.72 7.72c-.78.78-.78 2.05 0 2.83L4 21.41c.39.39.9.59 1.41.59.51 0 1.02-.2 1.41-.59l7.78-7.78 2.81-2.81c.8-.78.8-2.07 0-2.86zM5.41 20L4 18.59l7.72-7.72 1.47 1.35L5.41 20z\"/>\n",
              "  </svg>\n",
              "      </button>\n",
              "      \n",
              "  <style>\n",
              "    .colab-df-container {\n",
              "      display:flex;\n",
              "      flex-wrap:wrap;\n",
              "      gap: 12px;\n",
              "    }\n",
              "\n",
              "    .colab-df-convert {\n",
              "      background-color: #E8F0FE;\n",
              "      border: none;\n",
              "      border-radius: 50%;\n",
              "      cursor: pointer;\n",
              "      display: none;\n",
              "      fill: #1967D2;\n",
              "      height: 32px;\n",
              "      padding: 0 0 0 0;\n",
              "      width: 32px;\n",
              "    }\n",
              "\n",
              "    .colab-df-convert:hover {\n",
              "      background-color: #E2EBFA;\n",
              "      box-shadow: 0px 1px 2px rgba(60, 64, 67, 0.3), 0px 1px 3px 1px rgba(60, 64, 67, 0.15);\n",
              "      fill: #174EA6;\n",
              "    }\n",
              "\n",
              "    [theme=dark] .colab-df-convert {\n",
              "      background-color: #3B4455;\n",
              "      fill: #D2E3FC;\n",
              "    }\n",
              "\n",
              "    [theme=dark] .colab-df-convert:hover {\n",
              "      background-color: #434B5C;\n",
              "      box-shadow: 0px 1px 3px 1px rgba(0, 0, 0, 0.15);\n",
              "      filter: drop-shadow(0px 1px 2px rgba(0, 0, 0, 0.3));\n",
              "      fill: #FFFFFF;\n",
              "    }\n",
              "  </style>\n",
              "\n",
              "      <script>\n",
              "        const buttonEl =\n",
              "          document.querySelector('#df-a0278e64-07bd-4b27-b47f-35174d588555 button.colab-df-convert');\n",
              "        buttonEl.style.display =\n",
              "          google.colab.kernel.accessAllowed ? 'block' : 'none';\n",
              "\n",
              "        async function convertToInteractive(key) {\n",
              "          const element = document.querySelector('#df-a0278e64-07bd-4b27-b47f-35174d588555');\n",
              "          const dataTable =\n",
              "            await google.colab.kernel.invokeFunction('convertToInteractive',\n",
              "                                                     [key], {});\n",
              "          if (!dataTable) return;\n",
              "\n",
              "          const docLinkHtml = 'Like what you see? Visit the ' +\n",
              "            '<a target=\"_blank\" href=https://colab.research.google.com/notebooks/data_table.ipynb>data table notebook</a>'\n",
              "            + ' to learn more about interactive tables.';\n",
              "          element.innerHTML = '';\n",
              "          dataTable['output_type'] = 'display_data';\n",
              "          await google.colab.output.renderOutput(dataTable, element);\n",
              "          const docLink = document.createElement('div');\n",
              "          docLink.innerHTML = docLinkHtml;\n",
              "          element.appendChild(docLink);\n",
              "        }\n",
              "      </script>\n",
              "    </div>\n",
              "  </div>\n",
              "  "
            ]
          },
          "metadata": {},
          "execution_count": 42
        }
      ]
    },
    {
      "cell_type": "code",
      "source": [],
      "metadata": {
        "id": "0rjovQe8dfMy"
      },
      "execution_count": null,
      "outputs": []
    }
  ]
}