{
  "cells": [
    {
      "cell_type": "markdown",
      "metadata": {
        "id": "view-in-github",
        "colab_type": "text"
      },
      "source": [
        "<a href=\"https://colab.research.google.com/github/gahongayirebelise/NLP-FELLOWSHIP/blob/main/Hackathonbel.ipynb\" target=\"_parent\"><img src=\"https://colab.research.google.com/assets/colab-badge.svg\" alt=\"Open In Colab\"/></a>"
      ]
    },
    {
      "cell_type": "code",
      "execution_count": null,
      "metadata": {
        "id": "ZH1-CWubPJN8"
      },
      "outputs": [],
      "source": [
        "from bs4 import BeautifulSoup"
      ]
    },
    {
      "cell_type": "code",
      "execution_count": null,
      "metadata": {
        "id": "2DIaekRlPYpA"
      },
      "outputs": [],
      "source": [
        "import bs4\n",
        "import requests"
      ]
    },
    {
      "cell_type": "code",
      "execution_count": null,
      "metadata": {
        "id": "DFyoIh7NPcin"
      },
      "outputs": [],
      "source": [
        "jobs_text = requests.get('https://www.jobinrwanda.com')\n",
        "Soup = BeautifulSoup(jobs_text.text, 'html.parser')\n",
        "(Soup.prettify())"
      ]
    },
    {
      "cell_type": "code",
      "execution_count": null,
      "metadata": {
        "colab": {
          "base_uri": "https://localhost:8080/"
        },
        "id": "AxzIbU6dQAzh",
        "outputId": "412a0fb2-1551-4293-deb2-a6448aae4e8b"
      },
      "outputs": [
        {
          "output_type": "stream",
          "name": "stdout",
          "text": [
            "['Consultant- Monitoring & Evaluation\\n', 'Procurement Officer\\n', 'HR Coordinator\\n', 'Project Engineer \\n', 'Customer Service Officer\\n', 'Operations Manager\\n', 'Terms of Reference for Production Of the Second Generation of the Country Gender Status Report for Rwanda\\n', 'Call for Application for Professional Training on use of\\xa0EBM, E-procurement and Tax Declaration through RRA\\n', ' Procurement Manager\\n', 'Finance Specialist (FS)\\n', 'Account Manager- Credit\\n', 'Pastry Chef\\xa0\\n', 'Assistant Front Office Manager (AFOM)\\n', 'iOS - Software Developer II (L3)\\n', 'iOS - Senior Software Developer (L4)\\n', 'Conducting a Tripartite Assessment of Skills Leading Directly to Decent Employment\\n', 'Office Assistant\\n', 'TOR-Recruitment of a Biostatistician Consultant\\n', 'Communications Internship\\n', 'Description  Tender Ref\\xa0 Number  Submission fees  Supply and Installation of Smoke detectors \\xa0to COPEDU PLC\\n', 'Tender for Supply of Office Stationeries\\n', 'Tender for Supply of Office Consumables\\n', 'Head of Field Office(Huye)\\n', 'Change of Name from\\xa0Send a Cow\\xa0to\\xa0RIPPLE EFFECT\\n', 'Human Resources Assistant\\n', 'Rwanda Impact Specialist\\n', 'Operations Support Manager (Africa)\\n', 'Accounting Supervisor\\n', 'Accounting Manager\\n', 'Global Client Data Analytics Consultant\\n', 'Business Development Officer\\n', 'Regional Grants Officer\\n', 'Purchase and Supply of Home Based ECD Equipment and Materials in Bwira Area Program of Bwira Sector, Ngororero District in Western Province\\n', 'Purchase, Supply and Distribute 3,000 Chicken, SASSO of 1.8kg to 2kg aged 4 Months to FH Participants of Mwendo Area Program Mwendo Sector Ruhango District, Southern Province\\n', 'Creation of Progressive Terraces in Bwira Area Program Communities in Bwira Sector Ngororero District in Western Province\\n', 'Construction of Two Playgrounds one in GS MUKAMA and one at PS NYARUREMA Community in Gatunda Area Program, Gatunda Sector, Nyagatare District in Eastern Province\\n', 'Construction of Modern ECD with 3 Rooms, Kitchen and Office in NYARUREMA Community Gatunda Area Program, Gatunda Sector, Nyagatare District in Eastern Province\\n', 'Construction of a Bloc of four Classrooms and 1 Bloc of 6 Door Latrines at Kavumu Community at Kavumu Primary School, Kabacuzi Area Program, Kabacuzi Sector, Muhanga District in Southern Province\\n', 'Construction of 1 Combined Playground (Basketball and Volleyball) at G.S Butare in Butare Community in Kabacuzi Area Program, Kabacuzi Sector, Muhanga District in Southern Province\\n', 'Construction of 2 ECD Classrooms at Kabuye Primary School in Kabacuzi Area Program, Kabacuzi Sector, Muhanga District in Southern Province\\n', 'Construction of a Minimarket at Gafunzo Community in Mwendo Area Program, Mwendo Sector, Ruhango District in Southern Province.\\n', 'Construction of Maternity Ward at Gishweru Health Center Mwendo Area Program, Mwendo Sector of Ruhango District in Southern Province\\n', 'Construction of Maternity Ward at Nyagihamba Health Center in Nyarubaka Area Program, Nyarubaka Sector, Kamonyi District in Southern Province\\n', 'Rehabilitation & Extension of Water Pipeline in Kigusa and Nyagishubi Communities in Nyarubaka Area Program of Nyarubaka Sector of Kamonyi District in Southern Province\\n', 'Request for Quotation (RFQ) for Hiring Vehicles to Handicap International Federation- Rwanda \\n', 'Quotation Request for Supermicro Superserver 4029GP-TRT3 to Rwanda\\n', 'Expression of Interest (EOI) for Consultancy Services for Providing Management Skills Advisory for at least 15 Start-ups/SMEs\\n', 'Establishment of Framework Contract for Supply and Delivery of Conical Long Lasting Insecticidal Treated Nets (LLINS)\\xa0\\n', 'Supply and Installation Of Medical Equipments and Instruments for CHUS\\n', 'Medtronic Labs Senior Operations Associate- Rwanda\\n', 'Request for Quotation for Prime Life Insurance Promotional Materials\\n', 'Request for Consultancy Service to Organize AYUTE Rwanda Challenge\\n', 'Terms of Reference (ToR) for the Recruitment of National Short-term Consultant to deliver Trainings on Compost Making Technology for Farmers within Sebeya Catchment Project\\n', 'Global Head of Corporate Communications\\n', 'Supply Smart Phones for\\xa0VSLAs Digitalization\\xa0at AEE Rwanda\\n', 'Public Relations Officer\\n', 'Request for Quotation for Consultation/Measurements/Supply/Fabrication/Provision for Orthopedic devices \\n', 'Request for Quotation for Provision of Accommodation and Event Services \\n', 'Request for Quotation for Supply Office Stationaries\\n', 'Consultancy to Conduct Needs Assessment Study for The Capacity of Rwanda Organic Agriculture Movement(Roam) in Governance and Management to Effectively Drive the Organic Sector in Rwanda\\n', 'Grants Manager\\n', 'Health Committee Consultant\\n', 'HVAC Lead Technician\\n', 'Maintenance Mechanic (Appliance Repair)\\n', 'Call for Expression of Interest (EoI) to develop training manual on post-harvest handling and quality management for actors in the vegetable value chains\\n', 'Call for Expression of Interest (EoI) to develop a training manual on leadership and governance skills for actors in the vegetable value chains\\n', 'Call for Expression of Interest (EoI) to develop training manual on Good Agronomic Practices (GAPs) for farmer cooperatives in vegetable crops\\n', 'Call for Expression of Interest (EoI) to develop training manual on financial literacy and business skills for actors in the vegetable value chains\\n', 'Purchase and Supply of Supplementary Books to Community Libraries in Nyagihanga Area Program of Nyagihanga Sector, Gatsibo District in Eastern Province\\n', 'Purchase, Supply and Distribute Agricultural Tools and Inputs (seeds and seedlings) to Support Food for the Hungry Participants\\n', 'Supply and Distribute 6,193 SASSO Layer Chicken Having at least 4-5 Month with 1,8Kg to 2Kgs Each\\n', 'Purchase and Supply of 333 Female Goats (Local race) Ready to Produce at least 25kg to 28kgs each to FH Rwanda Participants in Bwira Area Program of Ngororero District\\n', 'Purchase and Supply of Children Christmas Celebration items \\n', 'Providing Christmas gifts (Groceries) to Nyarubaka, Mwendo and Kabacuzi FH staff \\n', 'Providing Christmas Gifts (Groceries) to Gatunda FH staff\\n', 'Providing Christmas gifts (Groceries) to Nyagihanga FH staff Located in Nyagihanga Sector of Gatsibo District in Eastern Province\\n', 'Providing Christmas Gifts (Groceries) to Kigali FH Staff\\n', 'Camp Administrator\\n', 'Expression of Interest (EoI)\\xa0for One (1) unit Sedan\\n', 'Hiring of National Individual Consultant for Conducting a Study on the Status and Challenges Faced by Existing Cross Border Traders’ Cooperatives Across Rwanda Bordering Districts\\n', 'Terms of Reference (ToR) for Short Term Consultancy Services to Conduct Research on Production of Evidence for Advocacy on Menstrual Health, Focus on girls Room\\n', 'Rwanda Program Officer \\n', 'Sales Representative\\n', 'Sales Manager\\n', 'Aquaculture Technician\\n', 'Health Systems Strengthening (HSS) Manager\\n', 'Development Manager\\n', 'Training Expert to Provide Training on Video Production and Graphic Design\\n', 'Terms of Reference for Conducting a Market Landscape and Business Case Modeling Focused on Agriculture in Rwanda\\n', 'Retail Partnerships Lead\\n', 'Project Officer\\n', 'Un(e) Assistant(e) de Direction\\n', 'Administration & Finance Intern\\n', 'Kugemura Ibitambaro Byifashishwa mu Kudoda Imyenda (Fabrics) n´Ibikoresho Byifashishwa mu Kudoda Imyenda (Accessories)\\n', 'Supply Livestock (Pigs), Pig Feeds, and Medicines to Mungombwa, Gasaka, Bugarama, Kanjongo, and Rubengera Sectors located in Gisagara, Nyamagabe, Rusizi, Nyamasheke and Karongi Districts respectively\\n', 'Provision of Security Guards Services\\n', 'Loan Officers\\xa0\\n', 'Terms of Reference for Documentary Film Production\\xa0for\\xa0“Family Strengthening and Community Based Support for Care of Children with Disabilities in Families”\\xa0Project\\n', 'Terms of Reference for Programme Brief Writing for “Family Strengthening and Community Based Support for Care of Children with Disabilities in Families” Project\\n', 'Terms of Reference for Midline Report Writing for “Family Strengthening and Community Based Support for Care of Children with Disabilities in Families” Project\\xa0\\n', 'Request for Proposals (RFP) for\\xa0Consultancy Service to conduct Rapid Market Assessment of Small Livestock Productive Alliances the Heifer/PRISM Project\\n', 'Project Manager\\n', 'Training Manager \\n', 'Business Advisor - Lobby and Advocacy Expert\\n', 'IT and MIS Director\\n', 'Consultancy Opportunity to Conduct a Formative Research on the Factors Contributing to Impairment in Children and Adolescents in Rwanda\\xa0\\n', 'Learning Design Specialist, Rwanda\\n', 'Technical Advisor \\n', 'Front Desk Officer\\n', 'Global Remote Sensing Manager\\n', 'Accountant Officer\\n', 'Laborer\\n', 'Sale of Vehicle by Way of Public Auction\\n', 'Migration Health Physician\\n', 'Migration Health Nurse\\n', 'Short Term Consultancy to Develop Tailored Loan Products for the Health Sector in Rwanda\\n', 'Global HR Support Specialist\\n', 'Rwanda Procurement Specialist\\n', 'Professional Videographer and Photographer Consultant\\n', 'Security Officer\\n', 'Security Supervisor\\n', 'Instructional Technology Assistant\\xa0\\n', 'Associate Professor\\xa0and\\xa0Head of Human Anatomy\\xa0\\n', 'Rwanda Potato Seed Store Manager\\n', 'Gutanga Isoko ryo Kugura\\xa0no Gutanga Inkweto n’Imyenda yo Kurimbana\\n', 'Agronomist Technician, G-2(C)\\n', 'Dental Doctors /Dental Surgeon\\n', 'Provision of Medical Insurance Cover\\xa0\\n', 'Head of Rehabilitation Department\\n', 'Supply of Belts and Bearings for Rwacof Technical Operations Under Framework Agreement for Six Months\\xa0\\n', 'Distillery Assistant\\n', 'Public Health Specialist\\n', 'Garage Vehicles Maintenance Services\\n', 'Supply of Plaisir Packaging Materials\\n', 'Assistant in the Press Department, Administration and Consular Section\\n', 'Expression of Interest (EOI)-Office Flooring Works at Golden Plaza Building -2nd\\xa0Floor\\n', 'Expression of Interest (EOI)-Office Partitioning Works at Golden Plaza Building - 2nd\\xa0Floor\\n', 'Provision of Fuel (Petrol And Diesel) to Voluntary Service Overseas Motor Vehicles\\n', 'Development of Mobile Banking Application, Improvement of Existing Web Portal And The Provision of Clearing Interface\\n', 'Rwanda Warehouse Manager\\n', 'Request for Expression of Interest(EOI) for Prequalification of Security Services for 2023\\n', 'Request for Expression of Interest(EOI) for Prequalification of Car Hirining Services for 2023\\n', 'CSAT Officer – Rwanda\\n', 'Request for Quote/Proposal (RFQ/RFP)- Pre-Qualification Of Business Development Service (BDS) Providers to Improve Competitiveness and Investment Readiness Of SMEs  Involved in High-Value Agricultural Export\\n', 'SPM Officer\\n', 'Rwanda Communications Associate\\n', 'Construction of SOS Children’s Villages Rwanda Elementary (Primary & Nursery) School at Gisozi/Gasabo District\\n', 'Framework Contract for Hiring a Company To Provide Customs Clearance, Freight Forwarding, Flight Booking, Applying for Phyto-Sanitary Certificates and Logistics  Services\\n', 'Strategic Advisor – Targeted Skills Development\\n', 'Strategic Advisor– E-Commerce\\n', 'Supply and Installation of Medical Equipment\\n', 'Sales Representatives Needed at All City Rwanda Ltd\\n', 'Supply and Delivery of Laboratory Commodities (NCDS Products) to RMS   \\n', 'Supply of Laboratory Reagents, Equipments and Consumables (B) to RMS  \\n', 'Store Keeper\\n', 'Supply of Laboratory Reagents, Equipments and Consumables (A) to RMS\\xa0\\n', 'Rwanda Market Access and SRF MEL Associate\\n', 'Rwanda Field Integration Coordinator\\n', 'Rwanda Electrical Hub Operator\\n', 'Learning and Design Expert\\n', 'Senior Accountant\\n', 'Consultant to Conduct a Baseline Survey for Evaluating the Impacts of Covid-19 on Social-Economic Status of Cooperatives and Household’s Businesses in Karongi And Rutsiro Districts\\n', 'Rwanda Tree Lead\\n', 'Rwanda Potato Seed Venture \\ufeff\\ufeffLead\\n', 'IT Operations Senior Manager\\n', 'Rwanda Seed Innovation Centre Lead\\n', 'Senior Business Analyst\\n']\n"
          ]
        }
      ],
      "source": [
        "web_infos = Soup.find_all('div', class_='card-body p-2')\n",
        "\n",
        "def get_job_title(web_infos):\n",
        "  title_list = []\n",
        "  for web_info in web_infos:\n",
        "    Job_title = web_info.find('h5', class_='card-title').text\n",
        "    title_list.append(Job_title)\n",
        "  return title_list\n",
        "post_title = get_job_title(web_infos)\n",
        "print(post_title)"
      ]
    },
    {
      "cell_type": "code",
      "execution_count": 21,
      "metadata": {
        "id": "utIyrqtPSgMA",
        "colab": {
          "base_uri": "https://localhost:8080/"
        },
        "outputId": "8bffdff7-5a8e-41a2-a827-a4e0b39677d7"
      },
      "outputs": [
        {
          "output_type": "stream",
          "name": "stdout",
          "text": [
            "['https://www.jobinrwanda.com//job/senior-business-analyst']\n"
          ]
        }
      ],
      "source": [
        "def get_job_link(web_infos):\n",
        "  link_list = []\n",
        "  base_link = 'https://www.jobinrwanda.com/'\n",
        "  for web_info in web_infos:\n",
        "     Job_link = web_info.find('a')['href']\n",
        "  link_list.append(base_link+Job_link)\n",
        "  return link_list\n",
        "post_link = get_job_link(web_infos)\n",
        "print(post_link)\n"
      ]
    },
    {
      "cell_type": "code",
      "source": [
        "def get_job_description(web_infos):\n",
        "  descr_list = []\n",
        "  for web_info in web_infos:\n",
        "    job_descr = web_info.find('div', class_='node__content clearfix')\n",
        "    descr_list.append(job_descr)\n",
        "  return descr_list\n",
        "post_descr = get_job_description(web_infos) \n",
        "print(post_descr)\n",
        "\n",
        "\n",
        "\n"
      ],
      "metadata": {
        "id": "F2i-Fb1Djc6b",
        "colab": {
          "base_uri": "https://localhost:8080/"
        },
        "outputId": "2666245e-b468-4a28-a723-25853294a6a4"
      },
      "execution_count": 23,
      "outputs": [
        {
          "output_type": "stream",
          "name": "stdout",
          "text": [
            "[None, None, None, None, None, None, None, None, None, None, None, None, None, None, None, None, None, None, None, None, None, None, None, None, None, None, None, None, None, None, None, None, None, None, None, None, None, None, None, None, None, None, None, None, None, None, None, None, None, None, None, None, None, None, None, None, None, None, None, None, None, None, None, None, None, None, None, None, None, None, None, None, None, None, None, None, None, None, None, None, None, None, None, None, None, None, None, None, None, None, None, None, None, None, None, None, None, None, None, None, None, None, None, None, None, None, None, None, None, None, None, None, None, None, None, None, None, None, None, None, None, None, None, None, None, None, None, None, None, None, None, None, None, None, None, None, None, None, None, None, None, None, None, None, None, None, None, None, None, None, None, None, None, None, None, None, None, None, None, None, None, None, None, None, None, None, None]\n"
          ]
        }
      ]
    },
    {
      "cell_type": "code",
      "source": [],
      "metadata": {
        "id": "1bkz9JhizbAL"
      },
      "execution_count": null,
      "outputs": []
    }
  ],
  "metadata": {
    "colab": {
      "provenance": [],
      "authorship_tag": "ABX9TyMTOiuUyWg1UTRFTedNnWv+",
      "include_colab_link": true
    },
    "kernelspec": {
      "display_name": "Python 3",
      "name": "python3"
    },
    "language_info": {
      "name": "python"
    }
  },
  "nbformat": 4,
  "nbformat_minor": 0
}